{
 "cells": [
  {
   "cell_type": "markdown",
   "id": "68a34ee9-a22b-44f2-bc2a-595581580bb6",
   "metadata": {},
   "source": [
    "# Proyecto 1\n",
    "\n",
    "**Integrantes:**\n",
    "\n",
    "- Daniel Cordoba Pulido\n",
    "\n",
    "- Daniel Martínez Vega"
   ]
  },
  {
   "cell_type": "markdown",
   "id": "a58f9a59-68f4-48a6-9f79-043b394cc33e",
   "metadata": {},
   "source": [
    "# 1. Descripción\n",
    "En este proyecto se crea un ambiente de desarrollo de machine learning\n",
    "en el cual es posible la ingesta, validación y transformación de datos, demostrando capacidad de versionar los datos, código y ambiente de desarrollo.\n",
    "\n",
    "En este proyecto se construyó un ambiente de desarrollo para realizar un pipeline de datos con estas etapas:\n",
    "\n",
    "- Selección de características\n",
    "- Ingesta del conjunto de datos\n",
    "- Generació de las estadísticas del conjunto de datos\n",
    "- Creación de un esquema según el conocimiento del dominio\n",
    "- Creación de entornos de esquema\n",
    "- Visualización de las anomalías del conjunto de datos\n",
    "- Preprocesado, transformación e ingeniería de características\n",
    "- Seguimiento de la procedencia del flujo de datos utilizando metadatos de ML"
   ]
  },
  {
   "cell_type": "markdown",
   "id": "04e7c6ba-e2e6-4e94-ab7f-f28b7336ba49",
   "metadata": {},
   "source": [
    "## Librerías importadas"
   ]
  },
  {
   "cell_type": "code",
   "execution_count": 3,
   "id": "a76f900a-a74a-47c1-a9b5-d4c92ead415d",
   "metadata": {},
   "outputs": [],
   "source": [
    "import os # Para manejo de archivos y carpetas\n",
    "import requests # Para importar el conjunto de datos\n",
    "import pandas as pd #Para manejo de DataFrames\n",
    "import sqlite3 # Para manejo de bases de datos\n",
    "\n",
    "from sklearn.feature_selection import SelectKBest,f_classif # Para selección de características"
   ]
  },
  {
   "cell_type": "code",
   "execution_count": 56,
   "id": "82c55bc9-c39f-4165-9cfb-4e71edce3e95",
   "metadata": {},
   "outputs": [],
   "source": [
    "# Para trabajar de forma interactiva con los componentes de TFX\n",
    "from tfx.orchestration.experimental.interactive.interactive_context import InteractiveContext\n",
    "\n",
    "\n",
    "from tfx.components import CsvExampleGen # Generación de ejemplos\n",
    "from tfx.components import StatisticsGen # Generación de Estadísticas\n",
    "from tfx.components import ExampleValidator # Generación de Ejemplos\n",
    "from tfx.components import SchemaGen # Generación de Esquemas de validación de datos\n",
    "from tfx.components import Transform # Transformación de datos\n",
    "from tensorflow_metadata.proto.v0 import schema_pb2 # Configuración de dominos de esquemas\n",
    "from tfx.dsl.components.common.importer import Importer # Para importar componentes\n",
    "from tfx.types import standard_artifacts\n",
    "\n",
    "import tensorflow_data_validation as tfdv # Validación de datos"
   ]
  },
  {
   "cell_type": "markdown",
   "id": "90045a96-2064-4aa6-96a2-4e0416e22794",
   "metadata": {},
   "source": [
    "# 2. Descripción del dataset\n",
    "Se utilizó una variante del conjunto de datos [Tipo de Cubierta Forestal](https://archive.ics.uci.edu/dataset/31/covertype) para entrenar un modelo que predice el tipo de cobertura forestal en función de variables cartográficas. Puede ver el código para preparar el conjunto de datos [aquí](https://github.com/GoogleCloudPlatform/mlops-on-gcp/blob/master/datasets/covertype/wrangle/prepare.ipynb)"
   ]
  },
  {
   "cell_type": "markdown",
   "id": "601af6ab-4b1a-424a-b3b3-5f3c5f6a0f52",
   "metadata": {},
   "source": [
    "## 2.1. Carga del Dataset"
   ]
  },
  {
   "cell_type": "code",
   "execution_count": 5,
   "id": "de236ccc-3ceb-4d3e-8557-fd7b3f48bf6a",
   "metadata": {},
   "outputs": [],
   "source": [
    "## download the dataset\n",
    "# Directory of the raw data files\n",
    "_data_root = './data/covertype'\n",
    "# Path to the raw training data\n",
    "_data_filepath = os.path.join(_data_root, 'covertype_train.csv')\n",
    "# Download data\n",
    "os.makedirs(_data_root, exist_ok=True)\n",
    "if not os.path.isfile(_data_filepath):\n",
    "    #https://archive.ics.uci.edu/ml/machine-learning-databases/covtype/\n",
    "    url = 'https://docs.google.com/uc?export= \\\n",
    "    download&confirm={{VALUE}}&id=1lVF1BCWLH4eXXV_YOJzjR7xZjj-wAGj9'\n",
    "    r = requests.get(url, allow_redirects=True, stream=True)\n",
    "    open(_data_filepath, 'wb').write(r.content)"
   ]
  },
  {
   "cell_type": "code",
   "execution_count": 6,
   "id": "b7ad1d03-7666-4ae7-90f8-d201bc9948be",
   "metadata": {},
   "outputs": [],
   "source": [
    "df=pd.read_csv(\"data/covertype/covertype_train.csv\")"
   ]
  },
  {
   "cell_type": "markdown",
   "id": "c20c9d95-6d3d-4d1f-a0d7-93ce571c4ce9",
   "metadata": {},
   "source": [
    "### Revisión rápida del DataFrame"
   ]
  },
  {
   "cell_type": "markdown",
   "id": "bfeb6610-ff44-41d0-bdb8-55ebc1c234fc",
   "metadata": {},
   "source": [
    "Se hizo una pequeña revisión de los datos para comprobar fueron importados correctamente:\n",
    "\n",
    "- El conjunto de datos sumistrado cuenta con 13 características (11 numéricas y 2 categóricas), donde la variable objetivo es **Cover_Type**.\n",
    "\n",
    "- Gracias al procesamiento que se hizo del conjunto de datos, este no cuenta con valores nulos ni con registros duplicados"
   ]
  },
  {
   "cell_type": "code",
   "execution_count": 7,
   "id": "8bd653e6-8488-44ea-86c3-bb5f6e198eab",
   "metadata": {},
   "outputs": [
    {
     "data": {
      "text/html": [
       "<div>\n",
       "<style scoped>\n",
       "    .dataframe tbody tr th:only-of-type {\n",
       "        vertical-align: middle;\n",
       "    }\n",
       "\n",
       "    .dataframe tbody tr th {\n",
       "        vertical-align: top;\n",
       "    }\n",
       "\n",
       "    .dataframe thead th {\n",
       "        text-align: right;\n",
       "    }\n",
       "</style>\n",
       "<table border=\"1\" class=\"dataframe\">\n",
       "  <thead>\n",
       "    <tr style=\"text-align: right;\">\n",
       "      <th></th>\n",
       "      <th>Elevation</th>\n",
       "      <th>Aspect</th>\n",
       "      <th>Slope</th>\n",
       "      <th>Horizontal_Distance_To_Hydrology</th>\n",
       "      <th>Vertical_Distance_To_Hydrology</th>\n",
       "      <th>Horizontal_Distance_To_Roadways</th>\n",
       "      <th>Hillshade_9am</th>\n",
       "      <th>Hillshade_Noon</th>\n",
       "      <th>Hillshade_3pm</th>\n",
       "      <th>Horizontal_Distance_To_Fire_Points</th>\n",
       "      <th>Wilderness_Area</th>\n",
       "      <th>Soil_Type</th>\n",
       "      <th>Cover_Type</th>\n",
       "    </tr>\n",
       "  </thead>\n",
       "  <tbody>\n",
       "    <tr>\n",
       "      <th>0</th>\n",
       "      <td>2991</td>\n",
       "      <td>119</td>\n",
       "      <td>7</td>\n",
       "      <td>67</td>\n",
       "      <td>11</td>\n",
       "      <td>1015</td>\n",
       "      <td>233</td>\n",
       "      <td>234</td>\n",
       "      <td>133</td>\n",
       "      <td>1570</td>\n",
       "      <td>Commanche</td>\n",
       "      <td>C7202</td>\n",
       "      <td>1</td>\n",
       "    </tr>\n",
       "    <tr>\n",
       "      <th>1</th>\n",
       "      <td>2876</td>\n",
       "      <td>3</td>\n",
       "      <td>18</td>\n",
       "      <td>485</td>\n",
       "      <td>71</td>\n",
       "      <td>2495</td>\n",
       "      <td>192</td>\n",
       "      <td>202</td>\n",
       "      <td>144</td>\n",
       "      <td>1557</td>\n",
       "      <td>Commanche</td>\n",
       "      <td>C7757</td>\n",
       "      <td>1</td>\n",
       "    </tr>\n",
       "    <tr>\n",
       "      <th>2</th>\n",
       "      <td>3171</td>\n",
       "      <td>315</td>\n",
       "      <td>2</td>\n",
       "      <td>277</td>\n",
       "      <td>9</td>\n",
       "      <td>4374</td>\n",
       "      <td>213</td>\n",
       "      <td>237</td>\n",
       "      <td>162</td>\n",
       "      <td>1052</td>\n",
       "      <td>Rawah</td>\n",
       "      <td>C7745</td>\n",
       "      <td>0</td>\n",
       "    </tr>\n",
       "    <tr>\n",
       "      <th>3</th>\n",
       "      <td>3087</td>\n",
       "      <td>342</td>\n",
       "      <td>13</td>\n",
       "      <td>190</td>\n",
       "      <td>31</td>\n",
       "      <td>4774</td>\n",
       "      <td>193</td>\n",
       "      <td>221</td>\n",
       "      <td>166</td>\n",
       "      <td>752</td>\n",
       "      <td>Rawah</td>\n",
       "      <td>C7745</td>\n",
       "      <td>0</td>\n",
       "    </tr>\n",
       "    <tr>\n",
       "      <th>4</th>\n",
       "      <td>2835</td>\n",
       "      <td>158</td>\n",
       "      <td>10</td>\n",
       "      <td>212</td>\n",
       "      <td>41</td>\n",
       "      <td>3596</td>\n",
       "      <td>231</td>\n",
       "      <td>242</td>\n",
       "      <td>141</td>\n",
       "      <td>3280</td>\n",
       "      <td>Rawah</td>\n",
       "      <td>C4744</td>\n",
       "      <td>1</td>\n",
       "    </tr>\n",
       "  </tbody>\n",
       "</table>\n",
       "</div>"
      ],
      "text/plain": [
       "   Elevation  Aspect  Slope  Horizontal_Distance_To_Hydrology  \\\n",
       "0       2991     119      7                                67   \n",
       "1       2876       3     18                               485   \n",
       "2       3171     315      2                               277   \n",
       "3       3087     342     13                               190   \n",
       "4       2835     158     10                               212   \n",
       "\n",
       "   Vertical_Distance_To_Hydrology  Horizontal_Distance_To_Roadways  \\\n",
       "0                              11                             1015   \n",
       "1                              71                             2495   \n",
       "2                               9                             4374   \n",
       "3                              31                             4774   \n",
       "4                              41                             3596   \n",
       "\n",
       "   Hillshade_9am  Hillshade_Noon  Hillshade_3pm  \\\n",
       "0            233             234            133   \n",
       "1            192             202            144   \n",
       "2            213             237            162   \n",
       "3            193             221            166   \n",
       "4            231             242            141   \n",
       "\n",
       "   Horizontal_Distance_To_Fire_Points Wilderness_Area Soil_Type  Cover_Type  \n",
       "0                                1570       Commanche     C7202           1  \n",
       "1                                1557       Commanche     C7757           1  \n",
       "2                                1052           Rawah     C7745           0  \n",
       "3                                 752           Rawah     C7745           0  \n",
       "4                                3280           Rawah     C4744           1  "
      ]
     },
     "execution_count": 7,
     "metadata": {},
     "output_type": "execute_result"
    }
   ],
   "source": [
    "df.head()"
   ]
  },
  {
   "cell_type": "code",
   "execution_count": 8,
   "id": "f9541736-98f5-4924-bbe4-c65dd7321ead",
   "metadata": {},
   "outputs": [
    {
     "name": "stdout",
     "output_type": "stream",
     "text": [
      "<class 'pandas.core.frame.DataFrame'>\n",
      "RangeIndex: 116203 entries, 0 to 116202\n",
      "Data columns (total 13 columns):\n",
      " #   Column                              Non-Null Count   Dtype \n",
      "---  ------                              --------------   ----- \n",
      " 0   Elevation                           116203 non-null  int64 \n",
      " 1   Aspect                              116203 non-null  int64 \n",
      " 2   Slope                               116203 non-null  int64 \n",
      " 3   Horizontal_Distance_To_Hydrology    116203 non-null  int64 \n",
      " 4   Vertical_Distance_To_Hydrology      116203 non-null  int64 \n",
      " 5   Horizontal_Distance_To_Roadways     116203 non-null  int64 \n",
      " 6   Hillshade_9am                       116203 non-null  int64 \n",
      " 7   Hillshade_Noon                      116203 non-null  int64 \n",
      " 8   Hillshade_3pm                       116203 non-null  int64 \n",
      " 9   Horizontal_Distance_To_Fire_Points  116203 non-null  int64 \n",
      " 10  Wilderness_Area                     116203 non-null  object\n",
      " 11  Soil_Type                           116203 non-null  object\n",
      " 12  Cover_Type                          116203 non-null  int64 \n",
      "dtypes: int64(11), object(2)\n",
      "memory usage: 11.5+ MB\n"
     ]
    }
   ],
   "source": [
    "df.info()"
   ]
  },
  {
   "cell_type": "markdown",
   "id": "25de5dd8-791e-4d44-bf71-73ef91cb8a7d",
   "metadata": {},
   "source": [
    "# 3. Selección de características\n",
    "En esta estapa se realizó una selección de características sobre las variables numéricas usando **SelectKBest** de **Scikit-Learn**. Esta clase selecciona los features más relevantes respecto a la variable objetivo (**Cover_Type**).\n",
    "\n",
    "Para este caso, se seleccionaron **los mejores 8 features** y la función estadística utilizada para calificar a los features fue **f_classif**, el cual realiza un análisis anova sobre los datos para puntuarlos."
   ]
  },
  {
   "cell_type": "code",
   "execution_count": 9,
   "id": "8e02c3df-cb78-4163-8f0a-47dd2d4fc966",
   "metadata": {},
   "outputs": [],
   "source": [
    "# Separación de  las caracteristicas de entrada y de destino\n",
    "X=df.drop(\"Cover_Type\",axis=1)\n",
    "y=df[\"Cover_Type\"]\n",
    "\n",
    "# Extracción de características numéricas\n",
    "X_n=X.select_dtypes(include=['number'])\n",
    "\n",
    "# Seleccción de las mejores caraterísticas con SelectKBest\n",
    "selector=SelectKBest(f_classif, k=8)\n",
    "X_new=selector.fit_transform(X_n, y)"
   ]
  },
  {
   "cell_type": "markdown",
   "id": "5f4079ab-2da2-421a-a1e3-3df24829922e",
   "metadata": {},
   "source": [
    "## Características seleccionadas\n",
    "Como se puede apreciar en la siguiente tabla, los features que fueron excluidos por **SelectKBest** fueron **Aspect** y **Hillshade_3pm**"
   ]
  },
  {
   "cell_type": "code",
   "execution_count": 10,
   "id": "141d2d93-aa5c-459a-b9a5-89c1a40f72b6",
   "metadata": {},
   "outputs": [
    {
     "data": {
      "text/html": [
       "<div>\n",
       "<style scoped>\n",
       "    .dataframe tbody tr th:only-of-type {\n",
       "        vertical-align: middle;\n",
       "    }\n",
       "\n",
       "    .dataframe tbody tr th {\n",
       "        vertical-align: top;\n",
       "    }\n",
       "\n",
       "    .dataframe thead th {\n",
       "        text-align: right;\n",
       "    }\n",
       "</style>\n",
       "<table border=\"1\" class=\"dataframe\">\n",
       "  <thead>\n",
       "    <tr style=\"text-align: right;\">\n",
       "      <th></th>\n",
       "      <th>Columnas</th>\n",
       "      <th>Retain</th>\n",
       "    </tr>\n",
       "  </thead>\n",
       "  <tbody>\n",
       "    <tr>\n",
       "      <th>0</th>\n",
       "      <td>Elevation</td>\n",
       "      <td>True</td>\n",
       "    </tr>\n",
       "    <tr>\n",
       "      <th>1</th>\n",
       "      <td>Aspect</td>\n",
       "      <td>False</td>\n",
       "    </tr>\n",
       "    <tr>\n",
       "      <th>2</th>\n",
       "      <td>Slope</td>\n",
       "      <td>True</td>\n",
       "    </tr>\n",
       "    <tr>\n",
       "      <th>3</th>\n",
       "      <td>Horizontal_Distance_To_Hydrology</td>\n",
       "      <td>True</td>\n",
       "    </tr>\n",
       "    <tr>\n",
       "      <th>4</th>\n",
       "      <td>Vertical_Distance_To_Hydrology</td>\n",
       "      <td>True</td>\n",
       "    </tr>\n",
       "    <tr>\n",
       "      <th>5</th>\n",
       "      <td>Horizontal_Distance_To_Roadways</td>\n",
       "      <td>True</td>\n",
       "    </tr>\n",
       "    <tr>\n",
       "      <th>6</th>\n",
       "      <td>Hillshade_9am</td>\n",
       "      <td>True</td>\n",
       "    </tr>\n",
       "    <tr>\n",
       "      <th>7</th>\n",
       "      <td>Hillshade_Noon</td>\n",
       "      <td>True</td>\n",
       "    </tr>\n",
       "    <tr>\n",
       "      <th>8</th>\n",
       "      <td>Hillshade_3pm</td>\n",
       "      <td>False</td>\n",
       "    </tr>\n",
       "    <tr>\n",
       "      <th>9</th>\n",
       "      <td>Horizontal_Distance_To_Fire_Points</td>\n",
       "      <td>True</td>\n",
       "    </tr>\n",
       "  </tbody>\n",
       "</table>\n",
       "</div>"
      ],
      "text/plain": [
       "                             Columnas  Retain\n",
       "0                           Elevation    True\n",
       "1                              Aspect   False\n",
       "2                               Slope    True\n",
       "3    Horizontal_Distance_To_Hydrology    True\n",
       "4      Vertical_Distance_To_Hydrology    True\n",
       "5     Horizontal_Distance_To_Roadways    True\n",
       "6                       Hillshade_9am    True\n",
       "7                      Hillshade_Noon    True\n",
       "8                       Hillshade_3pm   False\n",
       "9  Horizontal_Distance_To_Fire_Points    True"
      ]
     },
     "execution_count": 10,
     "metadata": {},
     "output_type": "execute_result"
    }
   ],
   "source": [
    "pd.DataFrame({\"Columnas\":X_n.columns,\"Retain\":X_n.columns.isin(selector.get_feature_names_out())})"
   ]
  },
  {
   "cell_type": "markdown",
   "id": "85f9b26f-b805-407d-9d17-ef037318f89b",
   "metadata": {},
   "source": [
    "## Creación del nuevo DataFrame sin los parámetros excluidos por SelectKBest\n",
    "Ahora, se crea una segunda versión del conjunto de datos en la que no se incluyen estas características excluidas."
   ]
  },
  {
   "cell_type": "code",
   "execution_count": 11,
   "id": "97c77d1e-e295-4a5e-9de4-58624200450b",
   "metadata": {},
   "outputs": [],
   "source": [
    "new_dataframe=pd.DataFrame(X_new,columns=selector.get_feature_names_out())"
   ]
  },
  {
   "cell_type": "code",
   "execution_count": 12,
   "id": "a3acbc72-ace2-47f7-a280-ccb0a3f47400",
   "metadata": {},
   "outputs": [
    {
     "data": {
      "text/html": [
       "<div>\n",
       "<style scoped>\n",
       "    .dataframe tbody tr th:only-of-type {\n",
       "        vertical-align: middle;\n",
       "    }\n",
       "\n",
       "    .dataframe tbody tr th {\n",
       "        vertical-align: top;\n",
       "    }\n",
       "\n",
       "    .dataframe thead th {\n",
       "        text-align: right;\n",
       "    }\n",
       "</style>\n",
       "<table border=\"1\" class=\"dataframe\">\n",
       "  <thead>\n",
       "    <tr style=\"text-align: right;\">\n",
       "      <th></th>\n",
       "      <th>Elevation</th>\n",
       "      <th>Slope</th>\n",
       "      <th>Horizontal_Distance_To_Hydrology</th>\n",
       "      <th>Vertical_Distance_To_Hydrology</th>\n",
       "      <th>Horizontal_Distance_To_Roadways</th>\n",
       "      <th>Hillshade_9am</th>\n",
       "      <th>Hillshade_Noon</th>\n",
       "      <th>Horizontal_Distance_To_Fire_Points</th>\n",
       "    </tr>\n",
       "  </thead>\n",
       "  <tbody>\n",
       "    <tr>\n",
       "      <th>0</th>\n",
       "      <td>2991</td>\n",
       "      <td>7</td>\n",
       "      <td>67</td>\n",
       "      <td>11</td>\n",
       "      <td>1015</td>\n",
       "      <td>233</td>\n",
       "      <td>234</td>\n",
       "      <td>1570</td>\n",
       "    </tr>\n",
       "    <tr>\n",
       "      <th>1</th>\n",
       "      <td>2876</td>\n",
       "      <td>18</td>\n",
       "      <td>485</td>\n",
       "      <td>71</td>\n",
       "      <td>2495</td>\n",
       "      <td>192</td>\n",
       "      <td>202</td>\n",
       "      <td>1557</td>\n",
       "    </tr>\n",
       "    <tr>\n",
       "      <th>2</th>\n",
       "      <td>3171</td>\n",
       "      <td>2</td>\n",
       "      <td>277</td>\n",
       "      <td>9</td>\n",
       "      <td>4374</td>\n",
       "      <td>213</td>\n",
       "      <td>237</td>\n",
       "      <td>1052</td>\n",
       "    </tr>\n",
       "    <tr>\n",
       "      <th>3</th>\n",
       "      <td>3087</td>\n",
       "      <td>13</td>\n",
       "      <td>190</td>\n",
       "      <td>31</td>\n",
       "      <td>4774</td>\n",
       "      <td>193</td>\n",
       "      <td>221</td>\n",
       "      <td>752</td>\n",
       "    </tr>\n",
       "    <tr>\n",
       "      <th>4</th>\n",
       "      <td>2835</td>\n",
       "      <td>10</td>\n",
       "      <td>212</td>\n",
       "      <td>41</td>\n",
       "      <td>3596</td>\n",
       "      <td>231</td>\n",
       "      <td>242</td>\n",
       "      <td>3280</td>\n",
       "    </tr>\n",
       "  </tbody>\n",
       "</table>\n",
       "</div>"
      ],
      "text/plain": [
       "   Elevation  Slope  Horizontal_Distance_To_Hydrology  \\\n",
       "0       2991      7                                67   \n",
       "1       2876     18                               485   \n",
       "2       3171      2                               277   \n",
       "3       3087     13                               190   \n",
       "4       2835     10                               212   \n",
       "\n",
       "   Vertical_Distance_To_Hydrology  Horizontal_Distance_To_Roadways  \\\n",
       "0                              11                             1015   \n",
       "1                              71                             2495   \n",
       "2                               9                             4374   \n",
       "3                              31                             4774   \n",
       "4                              41                             3596   \n",
       "\n",
       "   Hillshade_9am  Hillshade_Noon  Horizontal_Distance_To_Fire_Points  \n",
       "0            233             234                                1570  \n",
       "1            192             202                                1557  \n",
       "2            213             237                                1052  \n",
       "3            193             221                                 752  \n",
       "4            231             242                                3280  "
      ]
     },
     "execution_count": 12,
     "metadata": {},
     "output_type": "execute_result"
    }
   ],
   "source": [
    "new_dataframe.head()"
   ]
  },
  {
   "cell_type": "code",
   "execution_count": 13,
   "id": "86c7d9e5-8a59-449b-9435-493a0f38b121",
   "metadata": {},
   "outputs": [],
   "source": [
    "new_dataframe[\"Wilderness_Area\"]=df[\"Wilderness_Area\"]\n",
    "new_dataframe[\"Soil_Type\"]=df[\"Soil_Type\"]\n",
    "new_dataframe[\"Cover_Type\"]=y"
   ]
  },
  {
   "cell_type": "code",
   "execution_count": 14,
   "id": "4a4a60dd-c7ee-451d-8b05-a7d466d5dbea",
   "metadata": {},
   "outputs": [
    {
     "data": {
      "text/html": [
       "<div>\n",
       "<style scoped>\n",
       "    .dataframe tbody tr th:only-of-type {\n",
       "        vertical-align: middle;\n",
       "    }\n",
       "\n",
       "    .dataframe tbody tr th {\n",
       "        vertical-align: top;\n",
       "    }\n",
       "\n",
       "    .dataframe thead th {\n",
       "        text-align: right;\n",
       "    }\n",
       "</style>\n",
       "<table border=\"1\" class=\"dataframe\">\n",
       "  <thead>\n",
       "    <tr style=\"text-align: right;\">\n",
       "      <th></th>\n",
       "      <th>Elevation</th>\n",
       "      <th>Slope</th>\n",
       "      <th>Horizontal_Distance_To_Hydrology</th>\n",
       "      <th>Vertical_Distance_To_Hydrology</th>\n",
       "      <th>Horizontal_Distance_To_Roadways</th>\n",
       "      <th>Hillshade_9am</th>\n",
       "      <th>Hillshade_Noon</th>\n",
       "      <th>Horizontal_Distance_To_Fire_Points</th>\n",
       "      <th>Wilderness_Area</th>\n",
       "      <th>Soil_Type</th>\n",
       "      <th>Cover_Type</th>\n",
       "    </tr>\n",
       "  </thead>\n",
       "  <tbody>\n",
       "    <tr>\n",
       "      <th>0</th>\n",
       "      <td>2991</td>\n",
       "      <td>7</td>\n",
       "      <td>67</td>\n",
       "      <td>11</td>\n",
       "      <td>1015</td>\n",
       "      <td>233</td>\n",
       "      <td>234</td>\n",
       "      <td>1570</td>\n",
       "      <td>Commanche</td>\n",
       "      <td>C7202</td>\n",
       "      <td>1</td>\n",
       "    </tr>\n",
       "    <tr>\n",
       "      <th>1</th>\n",
       "      <td>2876</td>\n",
       "      <td>18</td>\n",
       "      <td>485</td>\n",
       "      <td>71</td>\n",
       "      <td>2495</td>\n",
       "      <td>192</td>\n",
       "      <td>202</td>\n",
       "      <td>1557</td>\n",
       "      <td>Commanche</td>\n",
       "      <td>C7757</td>\n",
       "      <td>1</td>\n",
       "    </tr>\n",
       "    <tr>\n",
       "      <th>2</th>\n",
       "      <td>3171</td>\n",
       "      <td>2</td>\n",
       "      <td>277</td>\n",
       "      <td>9</td>\n",
       "      <td>4374</td>\n",
       "      <td>213</td>\n",
       "      <td>237</td>\n",
       "      <td>1052</td>\n",
       "      <td>Rawah</td>\n",
       "      <td>C7745</td>\n",
       "      <td>0</td>\n",
       "    </tr>\n",
       "    <tr>\n",
       "      <th>3</th>\n",
       "      <td>3087</td>\n",
       "      <td>13</td>\n",
       "      <td>190</td>\n",
       "      <td>31</td>\n",
       "      <td>4774</td>\n",
       "      <td>193</td>\n",
       "      <td>221</td>\n",
       "      <td>752</td>\n",
       "      <td>Rawah</td>\n",
       "      <td>C7745</td>\n",
       "      <td>0</td>\n",
       "    </tr>\n",
       "    <tr>\n",
       "      <th>4</th>\n",
       "      <td>2835</td>\n",
       "      <td>10</td>\n",
       "      <td>212</td>\n",
       "      <td>41</td>\n",
       "      <td>3596</td>\n",
       "      <td>231</td>\n",
       "      <td>242</td>\n",
       "      <td>3280</td>\n",
       "      <td>Rawah</td>\n",
       "      <td>C4744</td>\n",
       "      <td>1</td>\n",
       "    </tr>\n",
       "  </tbody>\n",
       "</table>\n",
       "</div>"
      ],
      "text/plain": [
       "   Elevation  Slope  Horizontal_Distance_To_Hydrology  \\\n",
       "0       2991      7                                67   \n",
       "1       2876     18                               485   \n",
       "2       3171      2                               277   \n",
       "3       3087     13                               190   \n",
       "4       2835     10                               212   \n",
       "\n",
       "   Vertical_Distance_To_Hydrology  Horizontal_Distance_To_Roadways  \\\n",
       "0                              11                             1015   \n",
       "1                              71                             2495   \n",
       "2                               9                             4374   \n",
       "3                              31                             4774   \n",
       "4                              41                             3596   \n",
       "\n",
       "   Hillshade_9am  Hillshade_Noon  Horizontal_Distance_To_Fire_Points  \\\n",
       "0            233             234                                1570   \n",
       "1            192             202                                1557   \n",
       "2            213             237                                1052   \n",
       "3            193             221                                 752   \n",
       "4            231             242                                3280   \n",
       "\n",
       "  Wilderness_Area Soil_Type  Cover_Type  \n",
       "0       Commanche     C7202           1  \n",
       "1       Commanche     C7757           1  \n",
       "2           Rawah     C7745           0  \n",
       "3           Rawah     C7745           0  \n",
       "4           Rawah     C4744           1  "
      ]
     },
     "execution_count": 14,
     "metadata": {},
     "output_type": "execute_result"
    }
   ],
   "source": [
    "new_dataframe.head()"
   ]
  },
  {
   "cell_type": "code",
   "execution_count": 15,
   "id": "2d55f66b-fdce-4af6-8d2a-cce219d1538c",
   "metadata": {},
   "outputs": [],
   "source": [
    "new_dataframe.to_csv('data/sel/data_selection.csv', index=False)"
   ]
  },
  {
   "cell_type": "markdown",
   "id": "932a8032-64c9-4232-9dca-5468a0b4f97f",
   "metadata": {},
   "source": [
    "# 4. Pipeline de datos\n",
    "En esta cuarta sección, se construyó un pipeline de datos encargado de la ingesta, validación y transformación de datos usando componentes de Tensorflow Extended (TFX)"
   ]
  },
  {
   "cell_type": "markdown",
   "id": "74c5403c-738d-406a-a700-41a603400e8c",
   "metadata": {},
   "source": [
    "## 4.1 Configuración del contexto interactivo\n",
    "Primero que todo, para poder trabajar de forma interactiva dentro de un notebook con los componentes de TFX, se configuró un contexto interactivo. \n",
    "\n",
    "el parámetro **pipeline_root=\"meta\"** define que los artefactos y sus metadatos serán almacenados en una carpeta llamada **meta**, donde se crea una base de datos sqlite con los metadatos de estos artefactos"
   ]
  },
  {
   "cell_type": "code",
   "execution_count": 16,
   "id": "54ba5ef0-4c10-4ccd-b7ab-71345497778d",
   "metadata": {},
   "outputs": [
    {
     "name": "stderr",
     "output_type": "stream",
     "text": [
      "WARNING:absl:InteractiveContext metadata_connection_config not provided: using SQLite ML Metadata database at meta/metadata.sqlite.\n"
     ]
    }
   ],
   "source": [
    "metadata_path = 'meta/metadata.sqlite'\n",
    "\n",
    "context = InteractiveContext(pipeline_root=\"meta\")"
   ]
  },
  {
   "cell_type": "markdown",
   "id": "9f58562f-e5cc-4345-9116-8559ff855084",
   "metadata": {},
   "source": [
    "## 4.2 Generación de ejemplos\n",
    "\n",
    "Para la ingesta de datos, se implementó **CsvExampleGen** para convertir datos sin\n",
    "procesar en TFRecords para un cálculo más rápido en las etapas posteriores del pipeline.\n",
    "\n",
    "Este usa como entrada la ruta a la carpeta donde se encuentran los datos en formato CSV\n",
    "\n",
    "**Nota:** para ejecutar este y los demas componentes de TFX utilizados en este notebook se utiliza **context.run()**"
   ]
  },
  {
   "cell_type": "code",
   "execution_count": 17,
   "id": "a26671b0-d21c-4b8a-bebd-270f6f3b3aa9",
   "metadata": {},
   "outputs": [
    {
     "name": "stderr",
     "output_type": "stream",
     "text": [
      "WARNING:apache_beam.runners.interactive.interactive_environment:Dependencies required for Interactive Beam PCollection visualization are not available, please use: `pip install apache-beam[interactive]` to install necessary dependencies to enable all data visualization features.\n"
     ]
    },
    {
     "data": {
      "application/javascript": [
       "\n",
       "        if (typeof window.interactive_beam_jquery == 'undefined') {\n",
       "          var jqueryScript = document.createElement('script');\n",
       "          jqueryScript.src = 'https://code.jquery.com/jquery-3.4.1.slim.min.js';\n",
       "          jqueryScript.type = 'text/javascript';\n",
       "          jqueryScript.onload = function() {\n",
       "            var datatableScript = document.createElement('script');\n",
       "            datatableScript.src = 'https://cdn.datatables.net/1.10.20/js/jquery.dataTables.min.js';\n",
       "            datatableScript.type = 'text/javascript';\n",
       "            datatableScript.onload = function() {\n",
       "              window.interactive_beam_jquery = jQuery.noConflict(true);\n",
       "              window.interactive_beam_jquery(document).ready(function($){\n",
       "                \n",
       "              });\n",
       "            }\n",
       "            document.head.appendChild(datatableScript);\n",
       "          };\n",
       "          document.head.appendChild(jqueryScript);\n",
       "        } else {\n",
       "          window.interactive_beam_jquery(document).ready(function($){\n",
       "            \n",
       "          });\n",
       "        }"
      ]
     },
     "metadata": {},
     "output_type": "display_data"
    }
   ],
   "source": [
    "example_gen = CsvExampleGen(input_base='data/sel')\n",
    "context.run(example_gen);"
   ]
  },
  {
   "cell_type": "markdown",
   "id": "d2c0b65b-5bb0-4462-8533-f0c4ceb1bc6a",
   "metadata": {},
   "source": [
    "## 4.3 Generación de estadísticas\n",
    "Una vez ralizada la ingesta de datos, se procede a calcular y visualizar las características y distribución de los datos, esto permite identificar visualmente el comportamiento de los features del conjunto de datos e identificar posibles anomalias que son resaltadas en color rojo."
   ]
  },
  {
   "cell_type": "code",
   "execution_count": 18,
   "id": "9c5108e8-723a-4e7c-bbd1-d9b23896c713",
   "metadata": {},
   "outputs": [],
   "source": [
    "stats_gen= StatisticsGen(examples=example_gen.outputs['examples'],)\n",
    "context.run(stats_gen);"
   ]
  },
  {
   "cell_type": "markdown",
   "id": "51156c5a-d3a5-407d-b8d7-5cc7b16d9a40",
   "metadata": {},
   "source": [
    "### Visualización de estadísticas\n",
    "\n",
    "En esta ocasión, se rasalta la cantidad de valores en cero en la variable objetivo (Cover_Type) como un porblema potencial. Sin embargo, esta es una particularidad de esta variable que toma valores entre 0 y 6. \n",
    "\n",
    "**Nota:** Para poder visualizar este y otros componentes de TFX en el contexto interactivo se usa **context.show()**"
   ]
  },
  {
   "cell_type": "code",
   "execution_count": 19,
   "id": "392bfd64-cf6a-4314-9ffe-3ef484aa360a",
   "metadata": {},
   "outputs": [
    {
     "data": {
      "text/html": [
       "<b>Artifact at meta/StatisticsGen/statistics/10</b><br/><br/>"
      ],
      "text/plain": [
       "<IPython.core.display.HTML object>"
      ]
     },
     "metadata": {},
     "output_type": "display_data"
    },
    {
     "data": {
      "text/html": [
       "<style>html[theme=dark] iframe {background: white;}</style>"
      ],
      "text/plain": [
       "<IPython.core.display.HTML object>"
      ]
     },
     "metadata": {},
     "output_type": "display_data"
    },
    {
     "data": {
      "text/html": [
       "<div><b>'train' split:</b></div><br/>"
      ],
      "text/plain": [
       "<IPython.core.display.HTML object>"
      ]
     },
     "metadata": {},
     "output_type": "display_data"
    },
    {
     "data": {
      "text/html": [
       "<iframe id='facets-iframe' width=\"100%\" height=\"500px\"></iframe>\n",
       "        <script>\n",
       "        facets_iframe = document.getElementById('facets-iframe');\n",
       "        facets_html = '<script src=\"https://cdnjs.cloudflare.com/ajax/libs/webcomponentsjs/1.3.3/webcomponents-lite.js\"><\\/script><link rel=\"import\" href=\"https://raw.githubusercontent.com/PAIR-code/facets/master/facets-dist/facets-jupyter.html\"><facets-overview proto-input=\"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\"></facets-overview>';\n",
       "        facets_iframe.srcdoc = facets_html;\n",
       "         facets_iframe.id = \"\";\n",
       "         setTimeout(() => {\n",
       "           facets_iframe.setAttribute('height', facets_iframe.contentWindow.document.body.offsetHeight + 'px')\n",
       "         }, 1500)\n",
       "         </script>"
      ],
      "text/plain": [
       "<IPython.core.display.HTML object>"
      ]
     },
     "metadata": {},
     "output_type": "display_data"
    },
    {
     "data": {
      "text/html": [
       "<div><b>'eval' split:</b></div><br/>"
      ],
      "text/plain": [
       "<IPython.core.display.HTML object>"
      ]
     },
     "metadata": {},
     "output_type": "display_data"
    },
    {
     "data": {
      "text/html": [
       "<iframe id='facets-iframe' width=\"100%\" height=\"500px\"></iframe>\n",
       "        <script>\n",
       "        facets_iframe = document.getElementById('facets-iframe');\n",
       "        facets_html = '<script src=\"https://cdnjs.cloudflare.com/ajax/libs/webcomponentsjs/1.3.3/webcomponents-lite.js\"><\\/script><link rel=\"import\" href=\"https://raw.githubusercontent.com/PAIR-code/facets/master/facets-dist/facets-jupyter.html\"><facets-overview proto-input=\"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\"></facets-overview>';\n",
       "        facets_iframe.srcdoc = facets_html;\n",
       "         facets_iframe.id = \"\";\n",
       "         setTimeout(() => {\n",
       "           facets_iframe.setAttribute('height', facets_iframe.contentWindow.document.body.offsetHeight + 'px')\n",
       "         }, 1500)\n",
       "         </script>"
      ],
      "text/plain": [
       "<IPython.core.display.HTML object>"
      ]
     },
     "metadata": {},
     "output_type": "display_data"
    }
   ],
   "source": [
    "context.show(stats_gen.outputs['statistics'])"
   ]
  },
  {
   "cell_type": "markdown",
   "id": "fd8189bd-9ef7-4daa-af0a-d13556677271",
   "metadata": {},
   "source": [
    "## 4.4 Inferencia de Esquema\n",
    "Una vez calculadas las estadísticas a partir del conjunto de datos, para poder automatizar la validación de datos para entrenar algun modelo o hacer inferencias, se genera un esquema usando **SchemaGen** a partir de las características."
   ]
  },
  {
   "cell_type": "code",
   "execution_count": 20,
   "id": "f914de6a-e955-43a0-acd0-43574e0d3c7d",
   "metadata": {},
   "outputs": [],
   "source": [
    "schema_gen = SchemaGen(statistics=stats_gen.outputs['statistics'])\n",
    "context.run(schema_gen);"
   ]
  },
  {
   "cell_type": "markdown",
   "id": "578ba4e9-7e05-4822-9de4-04add632c937",
   "metadata": {},
   "source": [
    "### Visualización del esquema generado\n",
    "Como se puede apreciar, para cada uno de los features se define el tipo de dato que debe tener, si es necesario y para los features categóricos los posibles valores que puede tomar."
   ]
  },
  {
   "cell_type": "code",
   "execution_count": 21,
   "id": "df492871-fdbf-493b-a8b5-768ac0dab916",
   "metadata": {},
   "outputs": [
    {
     "data": {
      "text/html": [
       "<b>Artifact at meta/SchemaGen/schema/11</b><br/><br/>"
      ],
      "text/plain": [
       "<IPython.core.display.HTML object>"
      ]
     },
     "metadata": {},
     "output_type": "display_data"
    },
    {
     "data": {
      "text/html": [
       "<div>\n",
       "<style scoped>\n",
       "    .dataframe tbody tr th:only-of-type {\n",
       "        vertical-align: middle;\n",
       "    }\n",
       "\n",
       "    .dataframe tbody tr th {\n",
       "        vertical-align: top;\n",
       "    }\n",
       "\n",
       "    .dataframe thead th {\n",
       "        text-align: right;\n",
       "    }\n",
       "</style>\n",
       "<table border=\"1\" class=\"dataframe\">\n",
       "  <thead>\n",
       "    <tr style=\"text-align: right;\">\n",
       "      <th></th>\n",
       "      <th>Type</th>\n",
       "      <th>Presence</th>\n",
       "      <th>Valency</th>\n",
       "      <th>Domain</th>\n",
       "    </tr>\n",
       "    <tr>\n",
       "      <th>Feature name</th>\n",
       "      <th></th>\n",
       "      <th></th>\n",
       "      <th></th>\n",
       "      <th></th>\n",
       "    </tr>\n",
       "  </thead>\n",
       "  <tbody>\n",
       "    <tr>\n",
       "      <th>'Cover_Type'</th>\n",
       "      <td>INT</td>\n",
       "      <td>required</td>\n",
       "      <td></td>\n",
       "      <td>-</td>\n",
       "    </tr>\n",
       "    <tr>\n",
       "      <th>'Elevation'</th>\n",
       "      <td>INT</td>\n",
       "      <td>required</td>\n",
       "      <td></td>\n",
       "      <td>-</td>\n",
       "    </tr>\n",
       "    <tr>\n",
       "      <th>'Hillshade_9am'</th>\n",
       "      <td>INT</td>\n",
       "      <td>required</td>\n",
       "      <td></td>\n",
       "      <td>-</td>\n",
       "    </tr>\n",
       "    <tr>\n",
       "      <th>'Hillshade_Noon'</th>\n",
       "      <td>INT</td>\n",
       "      <td>required</td>\n",
       "      <td></td>\n",
       "      <td>-</td>\n",
       "    </tr>\n",
       "    <tr>\n",
       "      <th>'Horizontal_Distance_To_Fire_Points'</th>\n",
       "      <td>INT</td>\n",
       "      <td>required</td>\n",
       "      <td></td>\n",
       "      <td>-</td>\n",
       "    </tr>\n",
       "    <tr>\n",
       "      <th>'Horizontal_Distance_To_Hydrology'</th>\n",
       "      <td>INT</td>\n",
       "      <td>required</td>\n",
       "      <td></td>\n",
       "      <td>-</td>\n",
       "    </tr>\n",
       "    <tr>\n",
       "      <th>'Horizontal_Distance_To_Roadways'</th>\n",
       "      <td>INT</td>\n",
       "      <td>required</td>\n",
       "      <td></td>\n",
       "      <td>-</td>\n",
       "    </tr>\n",
       "    <tr>\n",
       "      <th>'Slope'</th>\n",
       "      <td>INT</td>\n",
       "      <td>required</td>\n",
       "      <td></td>\n",
       "      <td>-</td>\n",
       "    </tr>\n",
       "    <tr>\n",
       "      <th>'Soil_Type'</th>\n",
       "      <td>STRING</td>\n",
       "      <td>required</td>\n",
       "      <td></td>\n",
       "      <td>'Soil_Type'</td>\n",
       "    </tr>\n",
       "    <tr>\n",
       "      <th>'Vertical_Distance_To_Hydrology'</th>\n",
       "      <td>INT</td>\n",
       "      <td>required</td>\n",
       "      <td></td>\n",
       "      <td>-</td>\n",
       "    </tr>\n",
       "    <tr>\n",
       "      <th>'Wilderness_Area'</th>\n",
       "      <td>STRING</td>\n",
       "      <td>required</td>\n",
       "      <td></td>\n",
       "      <td>'Wilderness_Area'</td>\n",
       "    </tr>\n",
       "  </tbody>\n",
       "</table>\n",
       "</div>"
      ],
      "text/plain": [
       "                                        Type  Presence Valency  \\\n",
       "Feature name                                                     \n",
       "'Cover_Type'                             INT  required           \n",
       "'Elevation'                              INT  required           \n",
       "'Hillshade_9am'                          INT  required           \n",
       "'Hillshade_Noon'                         INT  required           \n",
       "'Horizontal_Distance_To_Fire_Points'     INT  required           \n",
       "'Horizontal_Distance_To_Hydrology'       INT  required           \n",
       "'Horizontal_Distance_To_Roadways'        INT  required           \n",
       "'Slope'                                  INT  required           \n",
       "'Soil_Type'                           STRING  required           \n",
       "'Vertical_Distance_To_Hydrology'         INT  required           \n",
       "'Wilderness_Area'                     STRING  required           \n",
       "\n",
       "                                                 Domain  \n",
       "Feature name                                             \n",
       "'Cover_Type'                                          -  \n",
       "'Elevation'                                           -  \n",
       "'Hillshade_9am'                                       -  \n",
       "'Hillshade_Noon'                                      -  \n",
       "'Horizontal_Distance_To_Fire_Points'                  -  \n",
       "'Horizontal_Distance_To_Hydrology'                    -  \n",
       "'Horizontal_Distance_To_Roadways'                     -  \n",
       "'Slope'                                               -  \n",
       "'Soil_Type'                                 'Soil_Type'  \n",
       "'Vertical_Distance_To_Hydrology'                      -  \n",
       "'Wilderness_Area'                     'Wilderness_Area'  "
      ]
     },
     "metadata": {},
     "output_type": "display_data"
    },
    {
     "data": {
      "text/html": [
       "<div>\n",
       "<style scoped>\n",
       "    .dataframe tbody tr th:only-of-type {\n",
       "        vertical-align: middle;\n",
       "    }\n",
       "\n",
       "    .dataframe tbody tr th {\n",
       "        vertical-align: top;\n",
       "    }\n",
       "\n",
       "    .dataframe thead th {\n",
       "        text-align: right;\n",
       "    }\n",
       "</style>\n",
       "<table border=\"1\" class=\"dataframe\">\n",
       "  <thead>\n",
       "    <tr style=\"text-align: right;\">\n",
       "      <th></th>\n",
       "      <th>Values</th>\n",
       "    </tr>\n",
       "    <tr>\n",
       "      <th>Domain</th>\n",
       "      <th></th>\n",
       "    </tr>\n",
       "  </thead>\n",
       "  <tbody>\n",
       "    <tr>\n",
       "      <th>'Soil_Type'</th>\n",
       "      <td>'C2702', 'C2703', 'C2704', 'C2705', 'C2706', 'C2717', 'C3501', 'C3502', 'C4201', 'C4703', 'C4704', 'C4744', 'C4758', 'C5101', 'C6101', 'C6102', 'C6731', 'C7101', 'C7102', 'C7103', 'C7201', 'C7202', 'C7700', 'C7701', 'C7702', 'C7709', 'C7710', 'C7745', 'C7746', 'C7755', 'C7756', 'C7757', 'C7790', 'C8703', 'C8707', 'C8708', 'C8771', 'C8772', 'C8776', 'C5151'</td>\n",
       "    </tr>\n",
       "    <tr>\n",
       "      <th>'Wilderness_Area'</th>\n",
       "      <td>'Cache', 'Commanche', 'Neota', 'Rawah'</td>\n",
       "    </tr>\n",
       "  </tbody>\n",
       "</table>\n",
       "</div>"
      ],
      "text/plain": [
       "                                                                                                                                                                                                                                                                                                                                                                                   Values\n",
       "Domain                                                                                                                                                                                                                                                                                                                                                                                   \n",
       "'Soil_Type'        'C2702', 'C2703', 'C2704', 'C2705', 'C2706', 'C2717', 'C3501', 'C3502', 'C4201', 'C4703', 'C4704', 'C4744', 'C4758', 'C5101', 'C6101', 'C6102', 'C6731', 'C7101', 'C7102', 'C7103', 'C7201', 'C7202', 'C7700', 'C7701', 'C7702', 'C7709', 'C7710', 'C7745', 'C7746', 'C7755', 'C7756', 'C7757', 'C7790', 'C8703', 'C8707', 'C8708', 'C8771', 'C8772', 'C8776', 'C5151'\n",
       "'Wilderness_Area'                                                                                                                                                                                                                                                                                                                                  'Cache', 'Commanche', 'Neota', 'Rawah'"
      ]
     },
     "metadata": {},
     "output_type": "display_data"
    }
   ],
   "source": [
    "context.show(schema_gen.outputs['schema'])"
   ]
  },
  {
   "cell_type": "markdown",
   "id": "cc4f6006-657a-469c-8fc6-6289c65adb95",
   "metadata": {},
   "source": [
    "## 4.5 Configuración del esquema\n",
    "Ademas de configurar los posibles valores que pueden tomar las variables categóricas, en este apartado se definirá un domino con los valores que pueden tomar algunas de las variables numéricas del conjunto de datos"
   ]
  },
  {
   "cell_type": "markdown",
   "id": "0bbe32aa-10f4-4fd7-a6d4-08a89a8b4ab4",
   "metadata": {},
   "source": [
    "### Carga del esquema\n",
    "Para poder modificar el esquema, primero lo almacenamos en una variable para poder trabajar con el."
   ]
  },
  {
   "cell_type": "code",
   "execution_count": 22,
   "id": "b728f36c-ba08-41d8-a8b5-2c8467de7e6b",
   "metadata": {},
   "outputs": [],
   "source": [
    "schema_path = schema_gen.outputs['schema'].get()[0].uri + '/schema.pbtxt'\n",
    "schema = tfdv.load_schema_text(schema_path)"
   ]
  },
  {
   "cell_type": "markdown",
   "id": "d4ffd93d-ec4e-407e-a115-0a15cf8c7faf",
   "metadata": {},
   "source": [
    "### Modificación de dominios\n",
    "Se definió los siguientes dominios para estos features usando **tfdv.set_domain()** y **schema_pb2.IntDomain()**\n",
    "- Hillshade 9am: 0 to 255\n",
    "- Hillshade Noon: 0 to 255\n",
    "- Slope: 0 to 90\n",
    "- Cover Type: 0 to 6\n",
    "\n",
    "Además, la variable objetivo (Cover_Type) se declaró como una variable categórica con el parámetro **is_categorical=True** "
   ]
  },
  {
   "cell_type": "code",
   "execution_count": 23,
   "id": "37012ae6-5c25-4027-bd45-e7a9bb8e1cad",
   "metadata": {},
   "outputs": [],
   "source": [
    "tfdv.set_domain(schema, 'Hillshade_9am', schema_pb2.IntDomain(min=0, max=255))"
   ]
  },
  {
   "cell_type": "code",
   "execution_count": 24,
   "id": "b6b8a3bc-17b7-4ae7-b83b-5d495a56a5b8",
   "metadata": {},
   "outputs": [],
   "source": [
    "tfdv.set_domain(schema, 'Hillshade_Noon', schema_pb2.IntDomain(min=0, max=255))"
   ]
  },
  {
   "cell_type": "code",
   "execution_count": 25,
   "id": "e31d4c35-98e5-4356-bba3-ee49aa54a5ed",
   "metadata": {},
   "outputs": [],
   "source": [
    "tfdv.set_domain(schema, 'Slope', schema_pb2.IntDomain(min=0, max=90))"
   ]
  },
  {
   "cell_type": "code",
   "execution_count": 26,
   "id": "de8dd792-48fb-4d14-8978-8d3f78ad5ca8",
   "metadata": {},
   "outputs": [],
   "source": [
    "tfdv.set_domain(schema, 'Cover_Type', schema_pb2.IntDomain(name='Cover Type', min=0, max=6, is_categorical=True))"
   ]
  },
  {
   "cell_type": "markdown",
   "id": "9a1b8774-90ec-4ce3-8821-04df7aa7ad77",
   "metadata": {},
   "source": [
    "### Actualización del esquema\n",
    "Una vez ajustados los dominios de los features, se sobreescribe el esquema original para guardar los cambios."
   ]
  },
  {
   "cell_type": "code",
   "execution_count": 27,
   "id": "d42771b6-dbd3-4bb3-bfa0-9f851730f2bc",
   "metadata": {},
   "outputs": [],
   "source": [
    "tfdv.write_schema_text(schema, schema_path)"
   ]
  },
  {
   "cell_type": "markdown",
   "id": "461c40cc-fe02-4824-9894-9e7f8e71fa4b",
   "metadata": {},
   "source": [
    "### Visualización del esquema actualizado\n",
    "Se puede observar que en el esquema actualizado, para la columna Domain ya se encuentran los valores máximo y mínimo que pueden tomar als variables a las que se les definió un dominio"
   ]
  },
  {
   "cell_type": "code",
   "execution_count": 28,
   "id": "fae2dc2d-9cf7-4048-bbf5-9630b964e9f3",
   "metadata": {},
   "outputs": [
    {
     "data": {
      "text/html": [
       "<b>Artifact at meta/SchemaGen/schema/11</b><br/><br/>"
      ],
      "text/plain": [
       "<IPython.core.display.HTML object>"
      ]
     },
     "metadata": {},
     "output_type": "display_data"
    },
    {
     "data": {
      "text/html": [
       "<div>\n",
       "<style scoped>\n",
       "    .dataframe tbody tr th:only-of-type {\n",
       "        vertical-align: middle;\n",
       "    }\n",
       "\n",
       "    .dataframe tbody tr th {\n",
       "        vertical-align: top;\n",
       "    }\n",
       "\n",
       "    .dataframe thead th {\n",
       "        text-align: right;\n",
       "    }\n",
       "</style>\n",
       "<table border=\"1\" class=\"dataframe\">\n",
       "  <thead>\n",
       "    <tr style=\"text-align: right;\">\n",
       "      <th></th>\n",
       "      <th>Type</th>\n",
       "      <th>Presence</th>\n",
       "      <th>Valency</th>\n",
       "      <th>Domain</th>\n",
       "    </tr>\n",
       "    <tr>\n",
       "      <th>Feature name</th>\n",
       "      <th></th>\n",
       "      <th></th>\n",
       "      <th></th>\n",
       "      <th></th>\n",
       "    </tr>\n",
       "  </thead>\n",
       "  <tbody>\n",
       "    <tr>\n",
       "      <th>'Cover_Type'</th>\n",
       "      <td>INT</td>\n",
       "      <td>required</td>\n",
       "      <td></td>\n",
       "      <td>min: 0; max: 6</td>\n",
       "    </tr>\n",
       "    <tr>\n",
       "      <th>'Elevation'</th>\n",
       "      <td>INT</td>\n",
       "      <td>required</td>\n",
       "      <td></td>\n",
       "      <td>-</td>\n",
       "    </tr>\n",
       "    <tr>\n",
       "      <th>'Hillshade_9am'</th>\n",
       "      <td>INT</td>\n",
       "      <td>required</td>\n",
       "      <td></td>\n",
       "      <td>min: 0; max: 255</td>\n",
       "    </tr>\n",
       "    <tr>\n",
       "      <th>'Hillshade_Noon'</th>\n",
       "      <td>INT</td>\n",
       "      <td>required</td>\n",
       "      <td></td>\n",
       "      <td>min: 0; max: 255</td>\n",
       "    </tr>\n",
       "    <tr>\n",
       "      <th>'Horizontal_Distance_To_Fire_Points'</th>\n",
       "      <td>INT</td>\n",
       "      <td>required</td>\n",
       "      <td></td>\n",
       "      <td>-</td>\n",
       "    </tr>\n",
       "    <tr>\n",
       "      <th>'Horizontal_Distance_To_Hydrology'</th>\n",
       "      <td>INT</td>\n",
       "      <td>required</td>\n",
       "      <td></td>\n",
       "      <td>-</td>\n",
       "    </tr>\n",
       "    <tr>\n",
       "      <th>'Horizontal_Distance_To_Roadways'</th>\n",
       "      <td>INT</td>\n",
       "      <td>required</td>\n",
       "      <td></td>\n",
       "      <td>-</td>\n",
       "    </tr>\n",
       "    <tr>\n",
       "      <th>'Slope'</th>\n",
       "      <td>INT</td>\n",
       "      <td>required</td>\n",
       "      <td></td>\n",
       "      <td>min: 0; max: 90</td>\n",
       "    </tr>\n",
       "    <tr>\n",
       "      <th>'Soil_Type'</th>\n",
       "      <td>STRING</td>\n",
       "      <td>required</td>\n",
       "      <td></td>\n",
       "      <td>'Soil_Type'</td>\n",
       "    </tr>\n",
       "    <tr>\n",
       "      <th>'Vertical_Distance_To_Hydrology'</th>\n",
       "      <td>INT</td>\n",
       "      <td>required</td>\n",
       "      <td></td>\n",
       "      <td>-</td>\n",
       "    </tr>\n",
       "    <tr>\n",
       "      <th>'Wilderness_Area'</th>\n",
       "      <td>STRING</td>\n",
       "      <td>required</td>\n",
       "      <td></td>\n",
       "      <td>'Wilderness_Area'</td>\n",
       "    </tr>\n",
       "  </tbody>\n",
       "</table>\n",
       "</div>"
      ],
      "text/plain": [
       "                                        Type  Presence Valency  \\\n",
       "Feature name                                                     \n",
       "'Cover_Type'                             INT  required           \n",
       "'Elevation'                              INT  required           \n",
       "'Hillshade_9am'                          INT  required           \n",
       "'Hillshade_Noon'                         INT  required           \n",
       "'Horizontal_Distance_To_Fire_Points'     INT  required           \n",
       "'Horizontal_Distance_To_Hydrology'       INT  required           \n",
       "'Horizontal_Distance_To_Roadways'        INT  required           \n",
       "'Slope'                                  INT  required           \n",
       "'Soil_Type'                           STRING  required           \n",
       "'Vertical_Distance_To_Hydrology'         INT  required           \n",
       "'Wilderness_Area'                     STRING  required           \n",
       "\n",
       "                                                 Domain  \n",
       "Feature name                                             \n",
       "'Cover_Type'                             min: 0; max: 6  \n",
       "'Elevation'                                           -  \n",
       "'Hillshade_9am'                        min: 0; max: 255  \n",
       "'Hillshade_Noon'                       min: 0; max: 255  \n",
       "'Horizontal_Distance_To_Fire_Points'                  -  \n",
       "'Horizontal_Distance_To_Hydrology'                    -  \n",
       "'Horizontal_Distance_To_Roadways'                     -  \n",
       "'Slope'                                 min: 0; max: 90  \n",
       "'Soil_Type'                                 'Soil_Type'  \n",
       "'Vertical_Distance_To_Hydrology'                      -  \n",
       "'Wilderness_Area'                     'Wilderness_Area'  "
      ]
     },
     "metadata": {},
     "output_type": "display_data"
    },
    {
     "data": {
      "text/html": [
       "<div>\n",
       "<style scoped>\n",
       "    .dataframe tbody tr th:only-of-type {\n",
       "        vertical-align: middle;\n",
       "    }\n",
       "\n",
       "    .dataframe tbody tr th {\n",
       "        vertical-align: top;\n",
       "    }\n",
       "\n",
       "    .dataframe thead th {\n",
       "        text-align: right;\n",
       "    }\n",
       "</style>\n",
       "<table border=\"1\" class=\"dataframe\">\n",
       "  <thead>\n",
       "    <tr style=\"text-align: right;\">\n",
       "      <th></th>\n",
       "      <th>Values</th>\n",
       "    </tr>\n",
       "    <tr>\n",
       "      <th>Domain</th>\n",
       "      <th></th>\n",
       "    </tr>\n",
       "  </thead>\n",
       "  <tbody>\n",
       "    <tr>\n",
       "      <th>'Soil_Type'</th>\n",
       "      <td>'C2702', 'C2703', 'C2704', 'C2705', 'C2706', 'C2717', 'C3501', 'C3502', 'C4201', 'C4703', 'C4704', 'C4744', 'C4758', 'C5101', 'C6101', 'C6102', 'C6731', 'C7101', 'C7102', 'C7103', 'C7201', 'C7202', 'C7700', 'C7701', 'C7702', 'C7709', 'C7710', 'C7745', 'C7746', 'C7755', 'C7756', 'C7757', 'C7790', 'C8703', 'C8707', 'C8708', 'C8771', 'C8772', 'C8776', 'C5151'</td>\n",
       "    </tr>\n",
       "    <tr>\n",
       "      <th>'Wilderness_Area'</th>\n",
       "      <td>'Cache', 'Commanche', 'Neota', 'Rawah'</td>\n",
       "    </tr>\n",
       "  </tbody>\n",
       "</table>\n",
       "</div>"
      ],
      "text/plain": [
       "                                                                                                                                                                                                                                                                                                                                                                                   Values\n",
       "Domain                                                                                                                                                                                                                                                                                                                                                                                   \n",
       "'Soil_Type'        'C2702', 'C2703', 'C2704', 'C2705', 'C2706', 'C2717', 'C3501', 'C3502', 'C4201', 'C4703', 'C4704', 'C4744', 'C4758', 'C5101', 'C6101', 'C6102', 'C6731', 'C7101', 'C7102', 'C7103', 'C7201', 'C7202', 'C7700', 'C7701', 'C7702', 'C7709', 'C7710', 'C7745', 'C7746', 'C7755', 'C7756', 'C7757', 'C7790', 'C8703', 'C8707', 'C8708', 'C8771', 'C8772', 'C8776', 'C5151'\n",
       "'Wilderness_Area'                                                                                                                                                                                                                                                                                                                                  'Cache', 'Commanche', 'Neota', 'Rawah'"
      ]
     },
     "metadata": {},
     "output_type": "display_data"
    }
   ],
   "source": [
    "context.show(schema_gen.outputs['schema'])"
   ]
  },
  {
   "cell_type": "markdown",
   "id": "ba5e6089-dd23-4fcb-8eda-f787b0fcd7ae",
   "metadata": {},
   "source": [
    "## 4.6 Entornos de esquema\n",
    "El esquema que se ha ajustado funciona correctamente en los datos de entrenamiento, pero cuando se quiera hacer una validación de los datos con los que se quiera hacer inferencias, el esquema detectará la falta de la variable objetivo **(Cover_Type)** como una anomalía.\n",
    "\n",
    "Para arreglar este problema, en esta sección se crean dos entornos para este esquema uno para datos de entrenamiento y otro para datos de inferencia. "
   ]
  },
  {
   "cell_type": "markdown",
   "id": "b7a66691-0867-484a-9ed4-601ae28c9c0c",
   "metadata": {},
   "source": [
    "### Creación de subconjunto de inferencia\n",
    "Para poder comprobar el correcto funcionamiento de los entornos de esquema, se crea un segundo dataframe que simula un conjunto de datos de inferencia el cual no cuenta con la variable objetivo"
   ]
  },
  {
   "cell_type": "code",
   "execution_count": 29,
   "id": "35540521-8d50-4c2b-8a89-62846071750d",
   "metadata": {},
   "outputs": [],
   "source": [
    "new_dataframe.drop(\"Cover_Type\",axis=1).to_csv('data/inference/inference.csv', index=False)"
   ]
  },
  {
   "cell_type": "markdown",
   "id": "ae9cf7d1-ad69-4d1b-a45a-a2bf1bc66eb6",
   "metadata": {},
   "source": [
    "### Validación del subconjunto de inferencia con esquema actual\n",
    "Como se puede apreciar, el esquema actual detecta anomalías en el conjunto de inferencias ya que no cuentan con las etiquetas"
   ]
  },
  {
   "cell_type": "code",
   "execution_count": 31,
   "id": "416539fc-2b3c-48aa-a0a9-56293614a064",
   "metadata": {},
   "outputs": [
    {
     "data": {
      "text/html": [
       "<div>\n",
       "<style scoped>\n",
       "    .dataframe tbody tr th:only-of-type {\n",
       "        vertical-align: middle;\n",
       "    }\n",
       "\n",
       "    .dataframe tbody tr th {\n",
       "        vertical-align: top;\n",
       "    }\n",
       "\n",
       "    .dataframe thead th {\n",
       "        text-align: right;\n",
       "    }\n",
       "</style>\n",
       "<table border=\"1\" class=\"dataframe\">\n",
       "  <thead>\n",
       "    <tr style=\"text-align: right;\">\n",
       "      <th></th>\n",
       "      <th>Anomaly short description</th>\n",
       "      <th>Anomaly long description</th>\n",
       "    </tr>\n",
       "    <tr>\n",
       "      <th>Feature name</th>\n",
       "      <th></th>\n",
       "      <th></th>\n",
       "    </tr>\n",
       "  </thead>\n",
       "  <tbody>\n",
       "    <tr>\n",
       "      <th>'Cover_Type'</th>\n",
       "      <td>Column dropped</td>\n",
       "      <td>Column is completely missing</td>\n",
       "    </tr>\n",
       "  </tbody>\n",
       "</table>\n",
       "</div>"
      ],
      "text/plain": [
       "             Anomaly short description      Anomaly long description\n",
       "Feature name                                                        \n",
       "'Cover_Type'            Column dropped  Column is completely missing"
      ]
     },
     "metadata": {},
     "output_type": "display_data"
    }
   ],
   "source": [
    "serving_anomalies = tfdv.validate_statistics(statistics=tfdv.generate_statistics_from_csv(\"data/inference/inference.csv\"), schema=schema)\n",
    "\n",
    "tfdv.display_anomalies(serving_anomalies)"
   ]
  },
  {
   "cell_type": "markdown",
   "id": "81c16d23-3380-4b08-8b40-5388ca12aaa7",
   "metadata": {},
   "source": [
    "### Añadir entornos de esquema para los conjuntos de entrenamiento e inferencia\n",
    "Para poder validar correctamente los datos de inferencia, se crearon dos entornos uno de TRAINING y otro de INFERENCIA para evaluar los datos entrantes en cada una de las ocasiones"
   ]
  },
  {
   "cell_type": "code",
   "execution_count": 32,
   "id": "f9391a00-b2f5-45db-b665-5aa339fbaf4c",
   "metadata": {},
   "outputs": [],
   "source": [
    "schema.default_environment.append('TRAINING')\n",
    "schema.default_environment.append('INFERENCIA')"
   ]
  },
  {
   "cell_type": "markdown",
   "id": "d8a9a6d1-d8ed-44a3-87f0-65e3175cfda7",
   "metadata": {},
   "source": [
    "### Especificar que la salida (\"Cover_Type\") no está en el entorno de inferencia\n",
    "Para que la falta de la variable objetivo no sea detactada como una anomalía por parte del entorno de INFERENCIA, se ajusta el feature para que no se tenga en cuenta en dicho entorno"
   ]
  },
  {
   "cell_type": "code",
   "execution_count": 33,
   "id": "997c1896-4925-4188-b470-c2df51f170bb",
   "metadata": {},
   "outputs": [],
   "source": [
    "tfdv.get_feature(schema, 'Cover_Type').not_in_environment.append('INFERENCIA')"
   ]
  },
  {
   "cell_type": "markdown",
   "id": "630d63d2-46d4-46c3-9018-aee92354b2cc",
   "metadata": {},
   "source": [
    "### Verificación de los entornos del esquema"
   ]
  },
  {
   "cell_type": "markdown",
   "id": "1734252b-937b-405c-b872-2f9dc20af016",
   "metadata": {},
   "source": [
    "#### Verificación de rangos de dominio\n",
    "\n",
    "Primero, se veirfica que los dominios se han agregados correctamente en el esquema"
   ]
  },
  {
   "cell_type": "code",
   "execution_count": 34,
   "id": "948bd0db-ff19-4bee-984a-313f4d1cf89f",
   "metadata": {},
   "outputs": [
    {
     "data": {
      "text/html": [
       "<div>\n",
       "<style scoped>\n",
       "    .dataframe tbody tr th:only-of-type {\n",
       "        vertical-align: middle;\n",
       "    }\n",
       "\n",
       "    .dataframe tbody tr th {\n",
       "        vertical-align: top;\n",
       "    }\n",
       "\n",
       "    .dataframe thead th {\n",
       "        text-align: right;\n",
       "    }\n",
       "</style>\n",
       "<table border=\"1\" class=\"dataframe\">\n",
       "  <thead>\n",
       "    <tr style=\"text-align: right;\">\n",
       "      <th></th>\n",
       "      <th>Type</th>\n",
       "      <th>Presence</th>\n",
       "      <th>Valency</th>\n",
       "      <th>Domain</th>\n",
       "    </tr>\n",
       "    <tr>\n",
       "      <th>Feature name</th>\n",
       "      <th></th>\n",
       "      <th></th>\n",
       "      <th></th>\n",
       "      <th></th>\n",
       "    </tr>\n",
       "  </thead>\n",
       "  <tbody>\n",
       "    <tr>\n",
       "      <th>'Cover_Type'</th>\n",
       "      <td>INT</td>\n",
       "      <td>required</td>\n",
       "      <td></td>\n",
       "      <td>min: 0; max: 6</td>\n",
       "    </tr>\n",
       "    <tr>\n",
       "      <th>'Elevation'</th>\n",
       "      <td>INT</td>\n",
       "      <td>required</td>\n",
       "      <td></td>\n",
       "      <td>-</td>\n",
       "    </tr>\n",
       "    <tr>\n",
       "      <th>'Hillshade_9am'</th>\n",
       "      <td>INT</td>\n",
       "      <td>required</td>\n",
       "      <td></td>\n",
       "      <td>min: 0; max: 255</td>\n",
       "    </tr>\n",
       "    <tr>\n",
       "      <th>'Hillshade_Noon'</th>\n",
       "      <td>INT</td>\n",
       "      <td>required</td>\n",
       "      <td></td>\n",
       "      <td>min: 0; max: 255</td>\n",
       "    </tr>\n",
       "    <tr>\n",
       "      <th>'Horizontal_Distance_To_Fire_Points'</th>\n",
       "      <td>INT</td>\n",
       "      <td>required</td>\n",
       "      <td></td>\n",
       "      <td>-</td>\n",
       "    </tr>\n",
       "    <tr>\n",
       "      <th>'Horizontal_Distance_To_Hydrology'</th>\n",
       "      <td>INT</td>\n",
       "      <td>required</td>\n",
       "      <td></td>\n",
       "      <td>-</td>\n",
       "    </tr>\n",
       "    <tr>\n",
       "      <th>'Horizontal_Distance_To_Roadways'</th>\n",
       "      <td>INT</td>\n",
       "      <td>required</td>\n",
       "      <td></td>\n",
       "      <td>-</td>\n",
       "    </tr>\n",
       "    <tr>\n",
       "      <th>'Slope'</th>\n",
       "      <td>INT</td>\n",
       "      <td>required</td>\n",
       "      <td></td>\n",
       "      <td>min: 0; max: 90</td>\n",
       "    </tr>\n",
       "    <tr>\n",
       "      <th>'Soil_Type'</th>\n",
       "      <td>STRING</td>\n",
       "      <td>required</td>\n",
       "      <td></td>\n",
       "      <td>'Soil_Type'</td>\n",
       "    </tr>\n",
       "    <tr>\n",
       "      <th>'Vertical_Distance_To_Hydrology'</th>\n",
       "      <td>INT</td>\n",
       "      <td>required</td>\n",
       "      <td></td>\n",
       "      <td>-</td>\n",
       "    </tr>\n",
       "    <tr>\n",
       "      <th>'Wilderness_Area'</th>\n",
       "      <td>STRING</td>\n",
       "      <td>required</td>\n",
       "      <td></td>\n",
       "      <td>'Wilderness_Area'</td>\n",
       "    </tr>\n",
       "  </tbody>\n",
       "</table>\n",
       "</div>"
      ],
      "text/plain": [
       "                                        Type  Presence Valency  \\\n",
       "Feature name                                                     \n",
       "'Cover_Type'                             INT  required           \n",
       "'Elevation'                              INT  required           \n",
       "'Hillshade_9am'                          INT  required           \n",
       "'Hillshade_Noon'                         INT  required           \n",
       "'Horizontal_Distance_To_Fire_Points'     INT  required           \n",
       "'Horizontal_Distance_To_Hydrology'       INT  required           \n",
       "'Horizontal_Distance_To_Roadways'        INT  required           \n",
       "'Slope'                                  INT  required           \n",
       "'Soil_Type'                           STRING  required           \n",
       "'Vertical_Distance_To_Hydrology'         INT  required           \n",
       "'Wilderness_Area'                     STRING  required           \n",
       "\n",
       "                                                 Domain  \n",
       "Feature name                                             \n",
       "'Cover_Type'                             min: 0; max: 6  \n",
       "'Elevation'                                           -  \n",
       "'Hillshade_9am'                        min: 0; max: 255  \n",
       "'Hillshade_Noon'                       min: 0; max: 255  \n",
       "'Horizontal_Distance_To_Fire_Points'                  -  \n",
       "'Horizontal_Distance_To_Hydrology'                    -  \n",
       "'Horizontal_Distance_To_Roadways'                     -  \n",
       "'Slope'                                 min: 0; max: 90  \n",
       "'Soil_Type'                                 'Soil_Type'  \n",
       "'Vertical_Distance_To_Hydrology'                      -  \n",
       "'Wilderness_Area'                     'Wilderness_Area'  "
      ]
     },
     "metadata": {},
     "output_type": "display_data"
    },
    {
     "data": {
      "text/html": [
       "<div>\n",
       "<style scoped>\n",
       "    .dataframe tbody tr th:only-of-type {\n",
       "        vertical-align: middle;\n",
       "    }\n",
       "\n",
       "    .dataframe tbody tr th {\n",
       "        vertical-align: top;\n",
       "    }\n",
       "\n",
       "    .dataframe thead th {\n",
       "        text-align: right;\n",
       "    }\n",
       "</style>\n",
       "<table border=\"1\" class=\"dataframe\">\n",
       "  <thead>\n",
       "    <tr style=\"text-align: right;\">\n",
       "      <th></th>\n",
       "      <th>Values</th>\n",
       "    </tr>\n",
       "    <tr>\n",
       "      <th>Domain</th>\n",
       "      <th></th>\n",
       "    </tr>\n",
       "  </thead>\n",
       "  <tbody>\n",
       "    <tr>\n",
       "      <th>'Soil_Type'</th>\n",
       "      <td>'C2702', 'C2703', 'C2704', 'C2705', 'C2706', 'C2717', 'C3501', 'C3502', 'C4201', 'C4703', 'C4704', 'C4744', 'C4758', 'C5101', 'C6101', 'C6102', 'C6731', 'C7101', 'C7102', 'C7103', 'C7201', 'C7202', 'C7700', 'C7701', 'C7702', 'C7709', 'C7710', 'C7745', 'C7746', 'C7755', 'C7756', 'C7757', 'C7790', 'C8703', 'C8707', 'C8708', 'C8771', 'C8772', 'C8776', 'C5151'</td>\n",
       "    </tr>\n",
       "    <tr>\n",
       "      <th>'Wilderness_Area'</th>\n",
       "      <td>'Cache', 'Commanche', 'Neota', 'Rawah'</td>\n",
       "    </tr>\n",
       "  </tbody>\n",
       "</table>\n",
       "</div>"
      ],
      "text/plain": [
       "                                                                                                                                                                                                                                                                                                                                                                                   Values\n",
       "Domain                                                                                                                                                                                                                                                                                                                                                                                   \n",
       "'Soil_Type'        'C2702', 'C2703', 'C2704', 'C2705', 'C2706', 'C2717', 'C3501', 'C3502', 'C4201', 'C4703', 'C4704', 'C4744', 'C4758', 'C5101', 'C6101', 'C6102', 'C6731', 'C7101', 'C7102', 'C7103', 'C7201', 'C7202', 'C7700', 'C7701', 'C7702', 'C7709', 'C7710', 'C7745', 'C7746', 'C7755', 'C7756', 'C7757', 'C7790', 'C8703', 'C8707', 'C8708', 'C8771', 'C8772', 'C8776', 'C5151'\n",
       "'Wilderness_Area'                                                                                                                                                                                                                                                                                                                                  'Cache', 'Commanche', 'Neota', 'Rawah'"
      ]
     },
     "metadata": {},
     "output_type": "display_data"
    }
   ],
   "source": [
    "tfdv.display_schema(schema=schema)"
   ]
  },
  {
   "cell_type": "markdown",
   "id": "ea0794c6-2697-49fe-97b9-05176c50e371",
   "metadata": {},
   "source": [
    "#### Verificación de la existencia de entornos\n",
    "Lugo, se verifica que efectivamente se hayan creado los dos entornos para el esquema"
   ]
  },
  {
   "cell_type": "code",
   "execution_count": 35,
   "id": "b6515ef0-c27a-418f-9531-bec31f3ee091",
   "metadata": {},
   "outputs": [
    {
     "data": {
      "text/plain": [
       "['TRAINING', 'INFERENCIA']"
      ]
     },
     "execution_count": 35,
     "metadata": {},
     "output_type": "execute_result"
    }
   ],
   "source": [
    "# Entornos\n",
    "schema.default_environment"
   ]
  },
  {
   "cell_type": "markdown",
   "id": "fac1ef7f-e18e-4f0d-b881-6fd5ccf956b6",
   "metadata": {},
   "source": [
    "#### Verificación de features no tenidos en cuenta en el entorno de inferencia\n",
    "Además, se verifica que efectivamente en el entorno 'INFERENCIA', no se encuentre el feature 'Cover_Type'"
   ]
  },
  {
   "cell_type": "code",
   "execution_count": 36,
   "id": "be281120-c36c-4f5f-8ec9-55b362919de9",
   "metadata": {},
   "outputs": [
    {
     "name": "stdout",
     "output_type": "stream",
     "text": [
      "Cover_Type\n"
     ]
    }
   ],
   "source": [
    "for feature in schema.feature:\n",
    "    if feature.not_in_environment:\n",
    "        print(feature.name)"
   ]
  },
  {
   "cell_type": "markdown",
   "id": "4005eb22-50d7-4e6b-a217-61ad7d4b1d1d",
   "metadata": {},
   "source": [
    "#### Validación del conjunto de inferencia con el nuevo entorno\n",
    "y por último, se verifica que no se detecte anomalías debido a la fallta del feature objetivo (Cover_Type) en el conjunto de datos de inferencia usando el entorno **INFERENCIA**"
   ]
  },
  {
   "cell_type": "code",
   "execution_count": 37,
   "id": "85725df6-6c57-446c-8b51-c8d0d2a0ba9c",
   "metadata": {},
   "outputs": [
    {
     "data": {
      "text/html": [
       "<h4 style=\"color:green;\">No anomalies found.</h4>"
      ],
      "text/plain": [
       "<IPython.core.display.HTML object>"
      ]
     },
     "metadata": {},
     "output_type": "display_data"
    }
   ],
   "source": [
    "serving_anomalies = tfdv.validate_statistics(statistics=tfdv.generate_statistics_from_csv(\"data/inference/inference.csv\"), schema=schema, environment='INFERENCIA')\n",
    "\n",
    "tfdv.display_anomalies(serving_anomalies)"
   ]
  },
  {
   "cell_type": "markdown",
   "id": "33657790-54d0-41c4-8a96-149ceef8492c",
   "metadata": {},
   "source": [
    "#### Guardar cambios\n",
    "Para terminar, se sobreescribe el esquema para guardar los cambios."
   ]
  },
  {
   "cell_type": "code",
   "execution_count": 38,
   "id": "3f12240c-ec5a-4123-bc00-5afd966dcdfd",
   "metadata": {},
   "outputs": [],
   "source": [
    "tfdv.write_schema_text(schema, schema_path)"
   ]
  },
  {
   "cell_type": "markdown",
   "id": "27651319-89a9-4cc8-bac2-8a57485e4215",
   "metadata": {},
   "source": [
    "## 4.7 Generación de nuevas estadísticas usando el esquema actualizado\n",
    "En esta sección se comprueba que los cambios realizados al esquema se han realizado correctamente visualizando las estadísticas generadas en el esquema usando el esquema actualizado.\n",
    "\n",
    "El principal cambio que se puede observar al revisar las etadísticas con este nuevo esquema es que el feature objetivo (Cover_Type) ahora se encuentra en la sección de variables categóricas."
   ]
  },
  {
   "cell_type": "code",
   "execution_count": 40,
   "id": "9661f242-212e-4d7f-a7d6-ba1d93220d4e",
   "metadata": {},
   "outputs": [],
   "source": [
    "user_schema_importer = Importer(\n",
    "    source_uri=schema_gen.outputs['schema'].get()[0].uri,\n",
    "    artifact_type=standard_artifacts.Schema,\n",
    "    reimport= True).with_id('schema_importer')\n",
    "\n",
    "context.run(user_schema_importer)\n",
    "\n",
    "compute_eval_stats = StatisticsGen(\n",
    "      examples=example_gen.outputs['examples'],\n",
    "      schema=user_schema_importer.outputs['result']\n",
    "      )\n",
    "\n",
    "context.run(compute_eval_stats);"
   ]
  },
  {
   "cell_type": "code",
   "execution_count": 41,
   "id": "eac989cd-9a50-4e8f-9b01-95347189a493",
   "metadata": {},
   "outputs": [
    {
     "data": {
      "text/html": [
       "<b>Artifact at meta/StatisticsGen/statistics/15</b><br/><br/>"
      ],
      "text/plain": [
       "<IPython.core.display.HTML object>"
      ]
     },
     "metadata": {},
     "output_type": "display_data"
    },
    {
     "data": {
      "text/html": [
       "<style>html[theme=dark] iframe {background: white;}</style>"
      ],
      "text/plain": [
       "<IPython.core.display.HTML object>"
      ]
     },
     "metadata": {},
     "output_type": "display_data"
    },
    {
     "data": {
      "text/html": [
       "<div><b>'train' split:</b></div><br/>"
      ],
      "text/plain": [
       "<IPython.core.display.HTML object>"
      ]
     },
     "metadata": {},
     "output_type": "display_data"
    },
    {
     "data": {
      "text/html": [
       "<iframe id='facets-iframe' width=\"100%\" height=\"500px\"></iframe>\n",
       "        <script>\n",
       "        facets_iframe = document.getElementById('facets-iframe');\n",
       "        facets_html = '<script src=\"https://cdnjs.cloudflare.com/ajax/libs/webcomponentsjs/1.3.3/webcomponents-lite.js\"><\\/script><link rel=\"import\" href=\"https://raw.githubusercontent.com/PAIR-code/facets/master/facets-dist/facets-jupyter.html\"><facets-overview proto-input=\"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\"></facets-overview>';\n",
       "        facets_iframe.srcdoc = facets_html;\n",
       "         facets_iframe.id = \"\";\n",
       "         setTimeout(() => {\n",
       "           facets_iframe.setAttribute('height', facets_iframe.contentWindow.document.body.offsetHeight + 'px')\n",
       "         }, 1500)\n",
       "         </script>"
      ],
      "text/plain": [
       "<IPython.core.display.HTML object>"
      ]
     },
     "metadata": {},
     "output_type": "display_data"
    },
    {
     "data": {
      "text/html": [
       "<div><b>'eval' split:</b></div><br/>"
      ],
      "text/plain": [
       "<IPython.core.display.HTML object>"
      ]
     },
     "metadata": {},
     "output_type": "display_data"
    },
    {
     "data": {
      "text/html": [
       "<iframe id='facets-iframe' width=\"100%\" height=\"500px\"></iframe>\n",
       "        <script>\n",
       "        facets_iframe = document.getElementById('facets-iframe');\n",
       "        facets_html = '<script src=\"https://cdnjs.cloudflare.com/ajax/libs/webcomponentsjs/1.3.3/webcomponents-lite.js\"><\\/script><link rel=\"import\" href=\"https://raw.githubusercontent.com/PAIR-code/facets/master/facets-dist/facets-jupyter.html\"><facets-overview proto-input=\"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\"></facets-overview>';\n",
       "        facets_iframe.srcdoc = facets_html;\n",
       "         facets_iframe.id = \"\";\n",
       "         setTimeout(() => {\n",
       "           facets_iframe.setAttribute('height', facets_iframe.contentWindow.document.body.offsetHeight + 'px')\n",
       "         }, 1500)\n",
       "         </script>"
      ],
      "text/plain": [
       "<IPython.core.display.HTML object>"
      ]
     },
     "metadata": {},
     "output_type": "display_data"
    }
   ],
   "source": [
    "context.show(compute_eval_stats.outputs['statistics'])"
   ]
  },
  {
   "cell_type": "markdown",
   "id": "a4543958-3c1d-4f74-a59c-e35c2fc59bac",
   "metadata": {},
   "source": [
    "## 4.8 Comprobación de anomalías\n",
    "También se puede realizar una comprobación de anomalias en el conjunto de datos usando **ExampleValidator()**. Dado que las anomalías son comprobadas en el mismo conjunto de datos con el que se creó el esquema, no fueron detectadas anomalías"
   ]
  },
  {
   "cell_type": "code",
   "execution_count": 42,
   "id": "da3e2775-54a1-4235-957d-b0f754d28465",
   "metadata": {},
   "outputs": [],
   "source": [
    "validate_stats = ExampleValidator(\n",
    "      statistics=compute_eval_stats.outputs['statistics'],\n",
    "      schema=schema_gen.outputs['schema']\n",
    "      )\n",
    "context.run(validate_stats);"
   ]
  },
  {
   "cell_type": "code",
   "execution_count": 43,
   "id": "b891d213-75da-4e4e-9716-dffdc8238d72",
   "metadata": {},
   "outputs": [
    {
     "data": {
      "text/html": [
       "<b>Artifact at meta/ExampleValidator/anomalies/16</b><br/><br/>"
      ],
      "text/plain": [
       "<IPython.core.display.HTML object>"
      ]
     },
     "metadata": {},
     "output_type": "display_data"
    },
    {
     "data": {
      "text/html": [
       "<div><b>'train' split:</b></div><br/>"
      ],
      "text/plain": [
       "<IPython.core.display.HTML object>"
      ]
     },
     "metadata": {},
     "output_type": "display_data"
    },
    {
     "data": {
      "text/html": [
       "<h4 style=\"color:green;\">No anomalies found.</h4>"
      ],
      "text/plain": [
       "<IPython.core.display.HTML object>"
      ]
     },
     "metadata": {},
     "output_type": "display_data"
    },
    {
     "data": {
      "text/html": [
       "<div><b>'eval' split:</b></div><br/>"
      ],
      "text/plain": [
       "<IPython.core.display.HTML object>"
      ]
     },
     "metadata": {},
     "output_type": "display_data"
    },
    {
     "data": {
      "text/html": [
       "<h4 style=\"color:green;\">No anomalies found.</h4>"
      ],
      "text/plain": [
       "<IPython.core.display.HTML object>"
      ]
     },
     "metadata": {},
     "output_type": "display_data"
    }
   ],
   "source": [
    "context.show(validate_stats.outputs['anomalies'])"
   ]
  },
  {
   "cell_type": "markdown",
   "id": "a7f4ffb2-2858-42c4-ae08-8ffa32b4889a",
   "metadata": {},
   "source": [
    "## 4.9 Ingeniería de características\n",
    "En esta sección se transforman los features de forma adecuada para entrenar e implementar un modelo, para esto, en la **sección 4.10**, se crea una función de preprocesamiento la cual a partir de los features de entrada especificados, les aplica una transformación y genera unos features de salida"
   ]
  },
  {
   "cell_type": "markdown",
   "id": "059da7f9-216c-4369-8808-841b0294b581",
   "metadata": {},
   "source": [
    "## 4.10. Función de preprocesamiento\n",
    "\n",
    "Para esta sección, en el archivo **prep.py** que se encuentra en el mismo directorio que este notebook se definió la función de preprocesamiento utilizada para hacer la transformación de datos. Esta función a partir de los datos de entrada, entrega un diccionario con los datos transformados para cada uno de los features\n",
    "\n",
    "En la función de preprocesamiento creada se usan dos tipos de transformaciónes:\n",
    "\n",
    "- Para las variables categóricas, se utiliza **tft.compute_and_apply_vocabulary()** para generar un vocabulario a partir de los datos de entrada y luego aplicar este vocabulario para transformar los valores de string en índices enteros. \n",
    "\n",
    "- Para las variables numéricas, se utiliza **tft.scale_to_0_1()** para escalar numéricamente los valores de una característica de entrada de manera que queden en el rango de 0 a 1.\n",
    "\n",
    "- Por último, para la variable objetivo (Cover_Type), no se realizó ninguna transformación\n",
    "\n",
    "\n",
    "El contenido de la función se presenta en el siguiente bloque de código:"
   ]
  },
  {
   "cell_type": "code",
   "execution_count": 44,
   "id": "0e07615b-b75b-402d-85f5-8734d74e3fdd",
   "metadata": {},
   "outputs": [],
   "source": [
    "def preprocessing_fn(inputs):\n",
    "    \n",
    "    outputs = {}\n",
    "    \n",
    "    # Transformación de features categóricos\n",
    "    for categorical_feature in ['Wilderness_Area', 'Soil_Type']:\n",
    "        outputs[categorical_feature] = tft.compute_and_apply_vocabulary(inputs[categorical_feature])\n",
    "    \n",
    "    # Transformación de features numéricos\n",
    "    for numeric_feature in ['Elevation', 'Slope', 'Horizontal_Distance_To_Hydrology', 'Vertical_Distance_To_Hydrology', 'Horizontal_Distance_To_Roadways', 'Hillshade_9am', 'Hillshade_Noon', 'Horizontal_Distance_To_Fire_Points']:\n",
    "        outputs[numeric_feature] = tft.scale_to_0_1(inputs[numeric_feature])\n",
    "        \n",
    "    outputs['Cover_Type'] = inputs['Cover_Type']\n",
    "    \n",
    "    return outputs"
   ]
  },
  {
   "cell_type": "markdown",
   "id": "d22fd5e8-750f-4f90-918d-32bdc9896580",
   "metadata": {},
   "source": [
    "## 4.11 Transformación del dataset\n",
    "En esta sección se usa el componente de TFX **Transform** para transformar el conjunto de datos usando la función de preprocesamiento definida en la sección anterior "
   ]
  },
  {
   "cell_type": "code",
   "execution_count": 46,
   "id": "149f7208-e1b5-4daa-97af-d751c5cf0b06",
   "metadata": {},
   "outputs": [],
   "source": [
    "transform = Transform(\n",
    "    examples=example_gen.outputs['examples'],\n",
    "    schema=schema_gen.outputs['schema'],\n",
    "    preprocessing_fn= \"prep.preprocessing_fn\"\n",
    ")\n",
    "context.run(transform);"
   ]
  },
  {
   "cell_type": "markdown",
   "id": "9445e49e-63ba-4806-ba8a-e1cc880568fa",
   "metadata": {},
   "source": [
    "### Visualización de estadísticas sobre el dataset con las transformaciones aplicadas\n",
    "Por último, se visualiza las estadísticas de los nuevos datos transformados, lo más notorio es que ahora todos los features son numerícos y los features que originalmente eran numéricos, ahora us valores están escalados.\n",
    "\n",
    "Para los features Soil_Type y Wilderness_Area se destaca como problema el porcentaje de valores en cero que toman estas variables, esto no es un problema dado que esto es debido a las transformaciones realizadas a estos features"
   ]
  },
  {
   "cell_type": "code",
   "execution_count": 47,
   "id": "cee0e691-93ce-4a04-be4d-fe91bcd1139d",
   "metadata": {},
   "outputs": [
    {
     "name": "stderr",
     "output_type": "stream",
     "text": [
      "WARNING:absl:Examples artifact does not have payload_format custom property. Falling back to FORMAT_TF_EXAMPLE\n"
     ]
    }
   ],
   "source": [
    "transformed_statistics_gen = StatisticsGen(\n",
    "    examples=transform.outputs['transformed_examples']\n",
    ")\n",
    "\n",
    "context.run(transformed_statistics_gen);"
   ]
  },
  {
   "cell_type": "code",
   "execution_count": 48,
   "id": "8ffd7cb6-17cb-4a60-9734-d91c1d377307",
   "metadata": {},
   "outputs": [
    {
     "data": {
      "text/html": [
       "<b>Artifact at meta/StatisticsGen/statistics/19</b><br/><br/>"
      ],
      "text/plain": [
       "<IPython.core.display.HTML object>"
      ]
     },
     "metadata": {},
     "output_type": "display_data"
    },
    {
     "data": {
      "text/html": [
       "<style>html[theme=dark] iframe {background: white;}</style>"
      ],
      "text/plain": [
       "<IPython.core.display.HTML object>"
      ]
     },
     "metadata": {},
     "output_type": "display_data"
    },
    {
     "data": {
      "text/html": [
       "<div><b>'eval' split:</b></div><br/>"
      ],
      "text/plain": [
       "<IPython.core.display.HTML object>"
      ]
     },
     "metadata": {},
     "output_type": "display_data"
    },
    {
     "data": {
      "text/html": [
       "<iframe id='facets-iframe' width=\"100%\" height=\"500px\"></iframe>\n",
       "        <script>\n",
       "        facets_iframe = document.getElementById('facets-iframe');\n",
       "        facets_html = '<script src=\"https://cdnjs.cloudflare.com/ajax/libs/webcomponentsjs/1.3.3/webcomponents-lite.js\"><\\/script><link rel=\"import\" href=\"https://raw.githubusercontent.com/PAIR-code/facets/master/facets-dist/facets-jupyter.html\"><facets-overview proto-input=\"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\"></facets-overview>';\n",
       "        facets_iframe.srcdoc = facets_html;\n",
       "         facets_iframe.id = \"\";\n",
       "         setTimeout(() => {\n",
       "           facets_iframe.setAttribute('height', facets_iframe.contentWindow.document.body.offsetHeight + 'px')\n",
       "         }, 1500)\n",
       "         </script>"
      ],
      "text/plain": [
       "<IPython.core.display.HTML object>"
      ]
     },
     "metadata": {},
     "output_type": "display_data"
    },
    {
     "data": {
      "text/html": [
       "<div><b>'train' split:</b></div><br/>"
      ],
      "text/plain": [
       "<IPython.core.display.HTML object>"
      ]
     },
     "metadata": {},
     "output_type": "display_data"
    },
    {
     "data": {
      "text/html": [
       "<iframe id='facets-iframe' width=\"100%\" height=\"500px\"></iframe>\n",
       "        <script>\n",
       "        facets_iframe = document.getElementById('facets-iframe');\n",
       "        facets_html = '<script src=\"https://cdnjs.cloudflare.com/ajax/libs/webcomponentsjs/1.3.3/webcomponents-lite.js\"><\\/script><link rel=\"import\" href=\"https://raw.githubusercontent.com/PAIR-code/facets/master/facets-dist/facets-jupyter.html\"><facets-overview proto-input=\"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\"></facets-overview>';\n",
       "        facets_iframe.srcdoc = facets_html;\n",
       "         facets_iframe.id = \"\";\n",
       "         setTimeout(() => {\n",
       "           facets_iframe.setAttribute('height', facets_iframe.contentWindow.document.body.offsetHeight + 'px')\n",
       "         }, 1500)\n",
       "         </script>"
      ],
      "text/plain": [
       "<IPython.core.display.HTML object>"
      ]
     },
     "metadata": {},
     "output_type": "display_data"
    }
   ],
   "source": [
    "context.show(transformed_statistics_gen.outputs['statistics'])"
   ]
  },
  {
   "cell_type": "markdown",
   "id": "36a2b5c0-112d-4da6-9f3c-034f02290e67",
   "metadata": {},
   "source": [
    "# 5. Metadatos de aprendizaje automático"
   ]
  },
  {
   "cell_type": "markdown",
   "id": "5ca07579-f51c-4910-a5f1-47318650b4c5",
   "metadata": {},
   "source": [
    "## Librerías importadas"
   ]
  },
  {
   "cell_type": "code",
   "execution_count": 49,
   "id": "bf361d69-c04e-49d7-a259-0a3d3e77be40",
   "metadata": {},
   "outputs": [],
   "source": [
    "from ml_metadata.metadata_store import metadata_store\n",
    "from ml_metadata.proto import metadata_store_pb2"
   ]
  },
  {
   "cell_type": "markdown",
   "id": "30b25f72-997e-4d52-adcc-9c1cf2ec7947",
   "metadata": {},
   "source": [
    "## Conexíon con el almacen de metadatos\n",
    "Al crear el contexto interactivo en la primera etapa de la sección 4 también se creó una base de datos sqlite en el mismo directorio, esta base de datos amacena los metadatos de cada uno de los artefactos creados en el contexto interactivo.\n",
    "\n",
    "En esta seccion nos conectamos a este almacén de metadatos el cual se encuentra en la ruta **'meta/metadata.sqlite'** usando **MetadataStore()** en modo de lectura ya que no buscamos realizar cambios a este almacen."
   ]
  },
  {
   "cell_type": "code",
   "execution_count": 50,
   "id": "e5158a43-3409-4d85-90c8-dbf707d620b0",
   "metadata": {},
   "outputs": [],
   "source": [
    "connection_config = metadata_store_pb2.ConnectionConfig()\n",
    "connection_config.sqlite.filename_uri = 'meta/metadata.sqlite'\n",
    "connection_config.sqlite.connection_mode = 1 \n",
    "\n",
    "store = metadata_store.MetadataStore(connection_config)"
   ]
  },
  {
   "cell_type": "markdown",
   "id": "b49ceb2f-284f-4a84-80dc-ad8a3f34b5ea",
   "metadata": {},
   "source": [
    "## 5.1 Acceso a artefactos almacenados\n",
    "Una vez realizada la conexión, en esta sección se hará una revisión de los componentes almacenadoe en esta base de datos"
   ]
  },
  {
   "cell_type": "markdown",
   "id": "3008f25e-9780-406b-b4e6-03a72f45c7df",
   "metadata": {},
   "source": [
    "### Tipos de artefactos almacenados\n",
    "Primero, se realizó una revisión de los distintos tipos de artefactos almacenados usando el método **.get_artifact_types()**. En la salida de este bloque se puede observar los artefactos que fueron generados durante el desarrollo de la sección 4"
   ]
  },
  {
   "cell_type": "code",
   "execution_count": 51,
   "id": "555032e1-382e-4205-b253-22fba3ffff97",
   "metadata": {},
   "outputs": [
    {
     "data": {
      "text/plain": [
       "[id: 14\n",
       " name: \"Examples\"\n",
       " properties {\n",
       "   key: \"span\"\n",
       "   value: INT\n",
       " }\n",
       " properties {\n",
       "   key: \"split_names\"\n",
       "   value: STRING\n",
       " }\n",
       " properties {\n",
       "   key: \"version\"\n",
       "   value: INT\n",
       " }\n",
       " base_type: DATASET,\n",
       " id: 16\n",
       " name: \"ExampleStatistics\"\n",
       " properties {\n",
       "   key: \"span\"\n",
       "   value: INT\n",
       " }\n",
       " properties {\n",
       "   key: \"split_names\"\n",
       "   value: STRING\n",
       " }\n",
       " base_type: STATISTICS,\n",
       " id: 18\n",
       " name: \"Schema\",\n",
       " id: 21\n",
       " name: \"ExampleAnomalies\"\n",
       " properties {\n",
       "   key: \"span\"\n",
       "   value: INT\n",
       " }\n",
       " properties {\n",
       "   key: \"split_names\"\n",
       "   value: STRING\n",
       " },\n",
       " id: 23\n",
       " name: \"TransformGraph\",\n",
       " id: 24\n",
       " name: \"TransformCache\"]"
      ]
     },
     "execution_count": 51,
     "metadata": {},
     "output_type": "execute_result"
    }
   ],
   "source": [
    "store.get_artifact_types()"
   ]
  },
  {
   "cell_type": "markdown",
   "id": "47fc3d49-c6e5-4ccb-9ce0-a4ea101a24e2",
   "metadata": {},
   "source": [
    "### Artefactos de tipo Esquema\n",
    "Por otra parte, también se puede observar para un determinado tipo de artefacto, todos los artefactos que fueron construidos junto a sus propiedades usando el método **.get_artifacts_by_type()**"
   ]
  },
  {
   "cell_type": "code",
   "execution_count": 52,
   "id": "92e6d7a4-aaf6-4fdf-9277-e96fd2b2cf38",
   "metadata": {},
   "outputs": [
    {
     "data": {
      "text/plain": [
       "[id: 3\n",
       " type_id: 18\n",
       " uri: \"meta/SchemaGen/schema/3\"\n",
       " custom_properties {\n",
       "   key: \"name\"\n",
       "   value {\n",
       "     string_value: \"schema:2024-03-04T03:27:19.947256\"\n",
       "   }\n",
       " }\n",
       " custom_properties {\n",
       "   key: \"producer_component\"\n",
       "   value {\n",
       "     string_value: \"SchemaGen\"\n",
       "   }\n",
       " }\n",
       " custom_properties {\n",
       "   key: \"state\"\n",
       "   value {\n",
       "     string_value: \"published\"\n",
       "   }\n",
       " }\n",
       " custom_properties {\n",
       "   key: \"tfx_version\"\n",
       "   value {\n",
       "     string_value: \"1.12.0\"\n",
       "   }\n",
       " }\n",
       " state: LIVE\n",
       " name: \"schema:2024-03-04T03:27:19.947256\"\n",
       " create_time_since_epoch: 1709522840704\n",
       " last_update_time_since_epoch: 1709522840794,\n",
       " id: 4\n",
       " type_id: 18\n",
       " uri: \"meta/SchemaGen/schema/3\"\n",
       " custom_properties {\n",
       "   key: \"is_external\"\n",
       "   value {\n",
       "     int_value: 1\n",
       "   }\n",
       " }\n",
       " custom_properties {\n",
       "   key: \"tfx_version\"\n",
       "   value {\n",
       "     string_value: \"1.12.0\"\n",
       "   }\n",
       " }\n",
       " create_time_since_epoch: 1709522864225\n",
       " last_update_time_since_epoch: 1709522864425,\n",
       " id: 10\n",
       " type_id: 18\n",
       " uri: \"meta/Transform/pre_transform_schema/7\"\n",
       " custom_properties {\n",
       "   key: \"name\"\n",
       "   value {\n",
       "     string_value: \"pre_transform_schema:2024-03-04T03:27:56.292574\"\n",
       "   }\n",
       " }\n",
       " custom_properties {\n",
       "   key: \"producer_component\"\n",
       "   value {\n",
       "     string_value: \"Transform\"\n",
       "   }\n",
       " }\n",
       " custom_properties {\n",
       "   key: \"state\"\n",
       "   value {\n",
       "     string_value: \"published\"\n",
       "   }\n",
       " }\n",
       " custom_properties {\n",
       "   key: \"tfx_version\"\n",
       "   value {\n",
       "     string_value: \"1.12.0\"\n",
       "   }\n",
       " }\n",
       " state: LIVE\n",
       " name: \"pre_transform_schema:2024-03-04T03:27:56.292574\"\n",
       " create_time_since_epoch: 1709522876873\n",
       " last_update_time_since_epoch: 1709522920319,\n",
       " id: 12\n",
       " type_id: 18\n",
       " uri: \"meta/Transform/post_transform_schema/7\"\n",
       " custom_properties {\n",
       "   key: \"name\"\n",
       "   value {\n",
       "     string_value: \"post_transform_schema:2024-03-04T03:27:56.292574\"\n",
       "   }\n",
       " }\n",
       " custom_properties {\n",
       "   key: \"producer_component\"\n",
       "   value {\n",
       "     string_value: \"Transform\"\n",
       "   }\n",
       " }\n",
       " custom_properties {\n",
       "   key: \"state\"\n",
       "   value {\n",
       "     string_value: \"published\"\n",
       "   }\n",
       " }\n",
       " custom_properties {\n",
       "   key: \"tfx_version\"\n",
       "   value {\n",
       "     string_value: \"1.12.0\"\n",
       "   }\n",
       " }\n",
       " state: LIVE\n",
       " name: \"post_transform_schema:2024-03-04T03:27:56.292574\"\n",
       " create_time_since_epoch: 1709522876873\n",
       " last_update_time_since_epoch: 1709522920320,\n",
       " id: 18\n",
       " type_id: 18\n",
       " uri: \"meta/SchemaGen/schema/11\"\n",
       " custom_properties {\n",
       "   key: \"name\"\n",
       "   value {\n",
       "     string_value: \"schema:2024-03-08T16:41:53.819898\"\n",
       "   }\n",
       " }\n",
       " custom_properties {\n",
       "   key: \"producer_component\"\n",
       "   value {\n",
       "     string_value: \"SchemaGen\"\n",
       "   }\n",
       " }\n",
       " custom_properties {\n",
       "   key: \"state\"\n",
       "   value {\n",
       "     string_value: \"published\"\n",
       "   }\n",
       " }\n",
       " custom_properties {\n",
       "   key: \"tfx_version\"\n",
       "   value {\n",
       "     string_value: \"1.12.0\"\n",
       "   }\n",
       " }\n",
       " state: LIVE\n",
       " name: \"schema:2024-03-08T16:41:53.819898\"\n",
       " create_time_since_epoch: 1709916114356\n",
       " last_update_time_since_epoch: 1709916114504,\n",
       " id: 19\n",
       " type_id: 18\n",
       " uri: \"meta/SchemaGen/schema/11\"\n",
       " custom_properties {\n",
       "   key: \"is_external\"\n",
       "   value {\n",
       "     int_value: 1\n",
       "   }\n",
       " }\n",
       " custom_properties {\n",
       "   key: \"tfx_version\"\n",
       "   value {\n",
       "     string_value: \"1.12.0\"\n",
       "   }\n",
       " }\n",
       " create_time_since_epoch: 1709916489763\n",
       " last_update_time_since_epoch: 1709916489967,\n",
       " id: 21\n",
       " type_id: 18\n",
       " uri: \"meta/SchemaGen/schema/11\"\n",
       " custom_properties {\n",
       "   key: \"is_external\"\n",
       "   value {\n",
       "     int_value: 1\n",
       "   }\n",
       " }\n",
       " custom_properties {\n",
       "   key: \"tfx_version\"\n",
       "   value {\n",
       "     string_value: \"1.12.0\"\n",
       "   }\n",
       " }\n",
       " create_time_since_epoch: 1709916511301\n",
       " last_update_time_since_epoch: 1709916511523,\n",
       " id: 27\n",
       " type_id: 18\n",
       " uri: \"meta/Transform/pre_transform_schema/17\"\n",
       " custom_properties {\n",
       "   key: \"name\"\n",
       "   value {\n",
       "     string_value: \"pre_transform_schema:2024-03-08T16:52:22.884492\"\n",
       "   }\n",
       " }\n",
       " custom_properties {\n",
       "   key: \"producer_component\"\n",
       "   value {\n",
       "     string_value: \"Transform\"\n",
       "   }\n",
       " }\n",
       " custom_properties {\n",
       "   key: \"state\"\n",
       "   value {\n",
       "     string_value: \"published\"\n",
       "   }\n",
       " }\n",
       " custom_properties {\n",
       "   key: \"tfx_version\"\n",
       "   value {\n",
       "     string_value: \"1.12.0\"\n",
       "   }\n",
       " }\n",
       " state: LIVE\n",
       " name: \"pre_transform_schema:2024-03-08T16:52:22.884492\"\n",
       " create_time_since_epoch: 1709916743293\n",
       " last_update_time_since_epoch: 1709916792105,\n",
       " id: 29\n",
       " type_id: 18\n",
       " uri: \"meta/Transform/post_transform_schema/17\"\n",
       " custom_properties {\n",
       "   key: \"name\"\n",
       "   value {\n",
       "     string_value: \"post_transform_schema:2024-03-08T16:52:22.884492\"\n",
       "   }\n",
       " }\n",
       " custom_properties {\n",
       "   key: \"producer_component\"\n",
       "   value {\n",
       "     string_value: \"Transform\"\n",
       "   }\n",
       " }\n",
       " custom_properties {\n",
       "   key: \"state\"\n",
       "   value {\n",
       "     string_value: \"published\"\n",
       "   }\n",
       " }\n",
       " custom_properties {\n",
       "   key: \"tfx_version\"\n",
       "   value {\n",
       "     string_value: \"1.12.0\"\n",
       "   }\n",
       " }\n",
       " state: LIVE\n",
       " name: \"post_transform_schema:2024-03-08T16:52:22.884492\"\n",
       " create_time_since_epoch: 1709916743294\n",
       " last_update_time_since_epoch: 1709916792105]"
      ]
     },
     "execution_count": 52,
     "metadata": {},
     "output_type": "execute_result"
    }
   ],
   "source": [
    "store.get_artifacts_by_type(\"Schema\")"
   ]
  },
  {
   "cell_type": "markdown",
   "id": "fca32a7c-8ecf-4aac-a18d-8cc9dc3255b2",
   "metadata": {},
   "source": [
    "## 5.2 y 5.3 Seguimiento de artefactos y Obtención de artefactos principales\n",
    "En esta última sección se diseñó una función con la cual se puede acceder a los artefactos a partir de los cuales un determinado componente fue generado"
   ]
  },
  {
   "cell_type": "markdown",
   "id": "589ab663-4210-4bc1-afd3-58916d4e6200",
   "metadata": {},
   "source": [
    "### Función de obtención de artefactos"
   ]
  },
  {
   "cell_type": "code",
   "execution_count": 53,
   "id": "4dafbbf4-f239-4e69-87fc-fbd6a60fad24",
   "metadata": {},
   "outputs": [],
   "source": [
    "def obtener_artefactos_principales(store, output_artifact_id):\n",
    "    \"\"\"\n",
    "    Devuelve los artefactos usados para generar el artefacto de salida especificado.\n",
    "    \n",
    "    Args:\n",
    "    store: Un store Metadata conectada a ML Metadata.\n",
    "    output_artifact_id: El ID del artefacto de salida.\n",
    "    \n",
    "    Returns:\n",
    "    lista de artefactos de entrada usados para generar el artefacto de salida especificado.\n",
    "    \"\"\"\n",
    "    input_artifacts = []\n",
    "\n",
    "    # Encuentra todos los eventos asociados con el artefacto de salida\n",
    "    events = store.get_events_by_artifact_ids([output_artifact_id])\n",
    "\n",
    "    for event in events:\n",
    "        if event.type == metadata_store_pb2.Event.OUTPUT:  # Busca eventos donde el artefacto es de salida\n",
    "            # Encuentra la ejecución asociada con este evento\n",
    "            execution_id = event.execution_id\n",
    "            # Encuentra todos los eventos asociados con la ejecución para identificar artefactos de entrada\n",
    "            related_events = store.get_events_by_execution_ids([execution_id])\n",
    "\n",
    "            for rel_event in related_events:\n",
    "                if rel_event.type == metadata_store_pb2.Event.INPUT:  # Busca eventos donde los artefactos son de entrada\n",
    "                    artifact_id = rel_event.artifact_id\n",
    "                    # Recupera el artefacto de entrada y lo añade a la lista\n",
    "                    artifact = store.get_artifacts_by_id([artifact_id])[0]\n",
    "                    input_artifacts.append(artifact)\n",
    "\n",
    "    return input_artifacts"
   ]
  },
  {
   "cell_type": "markdown",
   "id": "97032adc-6d26-468f-b3d1-c1b42f1607e2",
   "metadata": {},
   "source": [
    "### Testeo de la función"
   ]
  },
  {
   "cell_type": "markdown",
   "id": "b7e95f77-5b69-470e-a423-d2ce665c9a1c",
   "metadata": {},
   "source": [
    "#### Examples"
   ]
  },
  {
   "cell_type": "code",
   "execution_count": 54,
   "id": "f7a4838b-0183-4813-827e-aff93ab3c296",
   "metadata": {},
   "outputs": [
    {
     "data": {
      "text/plain": [
       "'meta/CsvExampleGen/examples/1'"
      ]
     },
     "execution_count": 54,
     "metadata": {},
     "output_type": "execute_result"
    }
   ],
   "source": [
    "obtener_artefactos_principales(store, 2)[0].uri"
   ]
  },
  {
   "cell_type": "markdown",
   "id": "94c1aae6-475a-4221-82eb-8068e1ff1a7a",
   "metadata": {},
   "source": [
    "#### Schema"
   ]
  },
  {
   "cell_type": "code",
   "execution_count": 55,
   "id": "0fd041c3-e6e2-49d6-9f47-c62db6747b0a",
   "metadata": {},
   "outputs": [
    {
     "data": {
      "text/plain": [
       "'meta/SchemaGen/schema/3'"
      ]
     },
     "execution_count": 55,
     "metadata": {},
     "output_type": "execute_result"
    }
   ],
   "source": [
    "obtener_artefactos_principales(store, 5)[1].uri"
   ]
  }
 ],
 "metadata": {
  "kernelspec": {
   "display_name": "Python 3 (ipykernel)",
   "language": "python",
   "name": "python3"
  },
  "language_info": {
   "codemirror_mode": {
    "name": "ipython",
    "version": 3
   },
   "file_extension": ".py",
   "mimetype": "text/x-python",
   "name": "python",
   "nbconvert_exporter": "python",
   "pygments_lexer": "ipython3",
   "version": "3.7.12"
  }
 },
 "nbformat": 4,
 "nbformat_minor": 5
}
